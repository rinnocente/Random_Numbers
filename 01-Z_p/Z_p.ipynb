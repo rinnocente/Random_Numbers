{
 "cells": [
  {
   "cell_type": "markdown",
   "metadata": {},
   "source": [
    "# Prime Fields : $\\mathbb{Z}_p$"
   ]
  },
  {
   "cell_type": "code",
   "execution_count": 2,
   "metadata": {
    "collapsed": false
   },
   "outputs": [
    {
     "data": {
      "text/latex": [
       "$$7$$"
      ],
      "text/plain": [
       "7"
      ]
     },
     "execution_count": 2,
     "metadata": {},
     "output_type": "execute_result"
    }
   ],
   "source": [
    "p:7"
   ]
  },
  {
   "cell_type": "code",
   "execution_count": 3,
   "metadata": {
    "collapsed": false
   },
   "outputs": [
    {
     "data": {
      "text/latex": [
       "$$1$$"
      ],
      "text/plain": [
       "1"
      ]
     },
     "execution_count": 3,
     "metadata": {},
     "output_type": "execute_result"
    }
   ],
   "source": [
    "n:1"
   ]
  },
  {
   "cell_type": "code",
   "execution_count": 4,
   "metadata": {
    "collapsed": false
   },
   "outputs": [
    {
     "data": {
      "text/latex": [
       "$$\\mbox{ Structure [GF-DATA] }$$"
      ],
      "text/plain": [
       "?Structure\\ \\[GF\\-DATA\\]"
      ]
     },
     "execution_count": 4,
     "metadata": {},
     "output_type": "execute_result"
    }
   ],
   "source": [
    "gf_set_data(p,n)"
   ]
  },
  {
   "cell_type": "code",
   "execution_count": 5,
   "metadata": {
    "collapsed": false
   },
   "outputs": [
    {
     "name": "stdout",
     "output_type": "stream",
     "text": [
      "characteristic = 7\n",
      "reduction polynomial = x\n",
      "primitive element = 3\n",
      "nr of elements = 7\n",
      "nr of units = 6\n",
      "nr of primitive elements = 2 \n"
     ]
    },
    {
     "data": {
      "text/latex": [
       "$$\\mathbf{false}$$"
      ],
      "text/plain": [
       "false"
      ]
     },
     "execution_count": 5,
     "metadata": {},
     "output_type": "execute_result"
    }
   ],
   "source": [
    "gf_info()"
   ]
  },
  {
   "cell_type": "code",
   "execution_count": 6,
   "metadata": {
    "collapsed": false
   },
   "outputs": [
    {
     "data": {
      "text/latex": [
       "$$\\pmatrix{0&1&2&3&4&5&6\\cr 1&2&3&4&5&6&0\\cr 2&3&4&5&6&0&1\\cr 3&4&5&6\n",
       " &0&1&2\\cr 4&5&6&0&1&2&3\\cr 5&6&0&1&2&3&4\\cr 6&0&1&2&3&4&5\\cr }$$"
      ],
      "text/plain": [
       "matrix([0,1,2,3,4,5,6],[1,2,3,4,5,6,0],[2,3,4,5,6,0,1],[3,4,5,6,0,1,2],\n",
       "       [4,5,6,0,1,2,3],[5,6,0,1,2,3,4],[6,0,1,2,3,4,5])"
      ]
     },
     "execution_count": 6,
     "metadata": {},
     "output_type": "execute_result"
    }
   ],
   "source": [
    "gf_add_table()"
   ]
  },
  {
   "cell_type": "code",
   "execution_count": 7,
   "metadata": {
    "collapsed": false
   },
   "outputs": [
    {
     "data": {
      "text/latex": [
       "$$\\pmatrix{1&2&3&4&5&6\\cr 2&4&6&1&3&5\\cr 3&6&2&5&1&4\\cr 4&1&5&2&6&3\n",
       " \\cr 5&3&1&6&4&2\\cr 6&5&4&3&2&1\\cr }$$"
      ],
      "text/plain": [
       "matrix([1,2,3,4,5,6],[2,4,6,1,3,5],[3,6,2,5,1,4],[4,1,5,2,6,3],[5,3,1,6,4,2],\n",
       "       [6,5,4,3,2,1])"
      ]
     },
     "execution_count": 7,
     "metadata": {},
     "output_type": "execute_result"
    }
   ],
   "source": [
    "gf_mult_table()"
   ]
  },
  {
   "cell_type": "markdown",
   "metadata": {},
   "source": [
    "### If an element $\\alpha$ generates with its powers all the elements of the group $\\mathbb{Z}_p^*$\n",
    "\n",
    "then $\\alpha$ is a generator of the cyclic multiplicative group and is called **primitive**. \n",
    "\n",
    "In $\\mathbb{Z}_7^*$ , $3$ and $5$ are the **primitive** elements."
   ]
  },
  {
   "cell_type": "code",
   "execution_count": 27,
   "metadata": {
    "collapsed": false
   },
   "outputs": [
    {
     "name": "stdout",
     "output_type": "stream",
     "text": [
      "1 1 \n",
      "2 3 \n",
      "3 6 \n",
      "4 3 \n",
      "5 6 \n",
      "6 2 \n"
     ]
    },
    {
     "data": {
      "text/latex": [
       "$$\\mathbf{done}$$"
      ],
      "text/plain": [
       "done"
      ]
     },
     "execution_count": 27,
     "metadata": {},
     "output_type": "execute_result"
    }
   ],
   "source": [
    "for i:1 thru p-1 do print(i,gf_order(i))"
   ]
  },
  {
   "cell_type": "markdown",
   "metadata": {},
   "source": [
    "## Fermat's little theorem\n",
    "\n",
    "$$ p \\mid (a^p - a)$$ or, said in another way  $$a^p -a \\equiv 0 \\mod p$$"
   ]
  },
  {
   "cell_type": "code",
   "execution_count": 29,
   "metadata": {
    "collapsed": false
   },
   "outputs": [
    {
     "name": "stdout",
     "output_type": "stream",
     "text": [
      "1 0 \n",
      "2 0 \n",
      "3 0 \n",
      "4 0 \n",
      "5 0 \n",
      "6 0 \n"
     ]
    },
    {
     "data": {
      "text/latex": [
       "$$\\mathbf{done}$$"
      ],
      "text/plain": [
       "done"
      ]
     },
     "execution_count": 29,
     "metadata": {},
     "output_type": "execute_result"
    }
   ],
   "source": [
    "for a:1 thru p-1 do print(a,mod(a^p-a,p))"
   ]
  },
  {
   "cell_type": "markdown",
   "metadata": {},
   "source": [
    "### if  $a \\not= 0$  then we can multiply by $a^{-1}$\n",
    "\n",
    "$a^{p-1} - 1 \\equiv 0 \\mod p~~~$    or   $~~~a^{p-1} \\equiv 1 \\mod p$"
   ]
  },
  {
   "cell_type": "code",
   "execution_count": 30,
   "metadata": {
    "collapsed": false
   },
   "outputs": [
    {
     "name": "stdout",
     "output_type": "stream",
     "text": [
      "1 1 \n",
      "2 1 \n",
      "3 1 \n",
      "4 1 \n",
      "5 1 \n",
      "6 1 \n"
     ]
    },
    {
     "data": {
      "text/latex": [
       "$$\\mathbf{done}$$"
      ],
      "text/plain": [
       "done"
      ]
     },
     "execution_count": 30,
     "metadata": {},
     "output_type": "execute_result"
    }
   ],
   "source": [
    "for a:1 thru p-1 do print(a,mod(a^(p-1),p))"
   ]
  },
  {
   "cell_type": "markdown",
   "metadata": {},
   "source": [
    "## Inverse computed with Fermat's little theorem\n",
    "\n",
    "let's multiply again by  $a^{-1}$\n",
    "\n",
    "$a^{p-2} \\equiv a^{-1} \\mod p$"
   ]
  },
  {
   "cell_type": "code",
   "execution_count": 11,
   "metadata": {
    "collapsed": false
   },
   "outputs": [
    {
     "name": "stdout",
     "output_type": "stream",
     "text": [
      "2 ^-1= 4 \n",
      "3 ^-1= 5 \n",
      "4 ^-1= 2 \n",
      "5 ^-1= 3 \n",
      "6 ^-1= 6 \n"
     ]
    },
    {
     "data": {
      "text/latex": [
       "$$\\mathbf{done}$$"
      ],
      "text/plain": [
       "done"
      ]
     },
     "execution_count": 11,
     "metadata": {},
     "output_type": "execute_result"
    }
   ],
   "source": [
    "for a:2 thru p-1 do print(a,\"^-1=\",mod(a^(p-2),p))"
   ]
  },
  {
   "cell_type": "code",
   "execution_count": 12,
   "metadata": {
    "collapsed": false
   },
   "outputs": [
    {
     "data": {
      "text/latex": [
       "$$3$$"
      ],
      "text/plain": [
       "3"
      ]
     },
     "execution_count": 12,
     "metadata": {},
     "output_type": "execute_result"
    }
   ],
   "source": [
    "gf_primitive()"
   ]
  },
  {
   "cell_type": "code",
   "execution_count": 16,
   "metadata": {
    "collapsed": false
   },
   "outputs": [
    {
     "data": {
      "text/latex": [
       "$$\\left[ \\mbox{ \"{Lisp Array: \\#(1 3 2 6 4 5 1)}\" } , \n",
       " \\mbox{ \"{Lisp Array: \\#(NIL 0 2 1 4 5 3)}\" } , \n",
       " \\mbox{ \"{Lisp Array: \\#(2 4 1 NIL 5 3 2)}\" } \\right] $$"
      ],
      "text/plain": [
       "[\"{Lisp Array: #(1 3 2 6 4 5 1)}\",\"{Lisp Array: #(NIL 0 2 1 4 5 3)}\",\n",
       " \"{Lisp Array: #(2 4 1 NIL 5 3 2)}\"]"
      ]
     },
     "execution_count": 16,
     "metadata": {},
     "output_type": "execute_result"
    }
   ],
   "source": [
    "gf_make_logs()"
   ]
  },
  {
   "cell_type": "code",
   "execution_count": 24,
   "metadata": {
    "collapsed": false
   },
   "outputs": [
    {
     "name": "stdout",
     "output_type": "stream",
     "text": [
      "3 ^ 0 = 1 \n",
      "3 ^ 1 = 3 \n",
      "3 ^ 2 = 2 \n",
      "3 ^ 3 = 6 \n",
      "3 ^ 4 = 4 \n",
      "3 ^ 5 = 5 \n"
     ]
    },
    {
     "data": {
      "text/latex": [
       "$$\\mathbf{done}$$"
      ],
      "text/plain": [
       "done"
      ]
     },
     "execution_count": 24,
     "metadata": {},
     "output_type": "execute_result"
    }
   ],
   "source": [
    "for j:0 thru p-2 do print(gf_primitive(),\"^\",j,\"=\",gf_powers[j])"
   ]
  },
  {
   "cell_type": "code",
   "execution_count": null,
   "metadata": {
    "collapsed": true
   },
   "outputs": [],
   "source": []
  }
 ],
 "metadata": {
  "kernelspec": {
   "display_name": "Maxima",
   "language": "maxima",
   "name": "maxima"
  },
  "language_info": {
   "codemirror_mode": "maxima",
   "mimetype": "text/x-maxima",
   "name": "maxima",
   "pygments_lexer": "maxima",
   "version": "circa-5.37"
  }
 },
 "nbformat": 4,
 "nbformat_minor": 1
}
