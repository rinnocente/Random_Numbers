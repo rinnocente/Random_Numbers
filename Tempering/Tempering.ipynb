{
 "cells": [
  {
   "cell_type": "markdown",
   "metadata": {},
   "source": [
    "# Tempering"
   ]
  },
  {
   "cell_type": "markdown",
   "metadata": {},
   "source": [
    "The new very long period Twisted GFSR can have not so good statistical properties.  \n",
    "Matsumoto and Kurita developed a shuffling of the bits that can help with this.  \n",
    "\n",
    "For T800 they resubmitted a TT800 version (Tempered Twisted GFSR).  \n",
    "The Marsenne Twister MT19337 is instead already equipped with a similar pattern."
   ]
  },
  {
   "cell_type": "markdown",
   "metadata": {},
   "source": [
    "T800 twisting :\n",
    "\n",
    "```\n",
    "#include <stdio.h>\n",
    "#include <unistd.h>\n",
    "\n",
    "\n",
    "\n",
    "int main(int argc, char* argv[])\n",
    "{\n",
    "unsigned int x,y,z;\n",
    "int s = 7, t=15;\n",
    "unsigned int a = 0x8ebfd028 ,b = 0x2b5b2500 ,c = 0xdb8b0000;\n",
    "\n",
    "  while (1) {\n",
    "\tif (read(0,&x,4) != 4) _exit(1); \n",
    "\ty = x ^ ((x<<s) & b);\n",
    "\tz = y ^ ((y<<t)& c);\n",
    "\twrite(1,&z,4);\n",
    "  }\n",
    "}\n",
    "```"
   ]
  },
  {
   "cell_type": "markdown",
   "metadata": {},
   "source": [
    "MT19337 twisting :\n",
    "```\n",
    "#include <stdio.h>\n",
    "#include <unistd.h>\n",
    "\n",
    "\n",
    "\n",
    "int main(int argc, char* argv[])\n",
    "{\n",
    "unsigned int x,y,z;\n",
    "int u = 11, s = 7, t=15, l = 18;\n",
    "unsigned int a = 0x9908b0df ,b = 0x9d2c5680 ,c = 0xefc60000;\n",
    "\n",
    "  while (1) {\n",
    "\tif (read(0,&x,4) != 4) _exit(1); \n",
    "\ty = x ^ (x>>u) ;\n",
    "\ty = y ^ ((y<<s)& b);\n",
    "\ty = y ^ ((y<<t)& c);\n",
    "\tz = y ^ (y>>l) ;\n",
    "\twrite(1,&z,4);\n",
    "  }\n",
    "}\n",
    "```"
   ]
  },
  {
   "cell_type": "code",
   "execution_count": null,
   "metadata": {
    "collapsed": true
   },
   "outputs": [],
   "source": []
  }
 ],
 "metadata": {
  "kernelspec": {
   "display_name": "Maxima",
   "language": "maxima",
   "name": "maxima"
  },
  "language_info": {
   "codemirror_mode": "maxima",
   "mimetype": "text/x-maxima",
   "name": "maxima",
   "pygments_lexer": "maxima",
   "version": "circa-5.37"
  }
 },
 "nbformat": 4,
 "nbformat_minor": 0
}
