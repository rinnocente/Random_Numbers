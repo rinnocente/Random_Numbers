{
 "cells": [
  {
   "cell_type": "markdown",
   "metadata": {},
   "source": [
    "# Primitive polynomials"
   ]
  },
  {
   "cell_type": "markdown",
   "metadata": {},
   "source": [
    "$ primitive~ polynomials \\subset irreducible~ polynomials \\subset polynomials $"
   ]
  },
  {
   "cell_type": "markdown",
   "metadata": {},
   "source": [
    "### Is $f(x)=x^3+x+1$ a *primitive polynomial* over $\\mathbb{Z}_2$ ?"
   ]
  },
  {
   "cell_type": "code",
   "execution_count": 1,
   "metadata": {},
   "outputs": [
    {
     "data": {
      "text/latex": [
       "$$x^3+x+1$$"
      ],
      "text/plain": [
       "x^3+x+1"
      ]
     },
     "execution_count": 1,
     "metadata": {},
     "output_type": "execute_result"
    }
   ],
   "source": [
    "f:x^3+x+1;"
   ]
  },
  {
   "cell_type": "code",
   "execution_count": 2,
   "metadata": {},
   "outputs": [
    {
     "data": {
      "text/latex": [
       "$$3$$"
      ],
      "text/plain": [
       "3"
      ]
     },
     "execution_count": 2,
     "metadata": {},
     "output_type": "execute_result"
    }
   ],
   "source": [
    "n:hipow(f,x);"
   ]
  },
  {
   "cell_type": "code",
   "execution_count": 3,
   "metadata": {},
   "outputs": [
    {
     "data": {
      "text/latex": [
       "$$2$$"
      ],
      "text/plain": [
       "2"
      ]
     },
     "execution_count": 3,
     "metadata": {},
     "output_type": "execute_result"
    }
   ],
   "source": [
    "p:modulus:2;"
   ]
  },
  {
   "cell_type": "markdown",
   "metadata": {},
   "source": [
    "### To be primitive $f(x)$ should divide $x^{p^n-1}-1$ and no other $x^e-1$ for $e\\lt p^n-1$"
   ]
  },
  {
   "cell_type": "code",
   "execution_count": 4,
   "metadata": {},
   "outputs": [
    {
     "data": {
      "text/latex": [
       "$$\\left[ x^4+x^2+x+1 , 0 \\right] $$"
      ],
      "text/plain": [
       "[x^4+x^2+x+1,0]"
      ]
     },
     "execution_count": 4,
     "metadata": {},
     "output_type": "execute_result"
    }
   ],
   "source": [
    "divide(x^(p^n-1)-1,f);"
   ]
  },
  {
   "cell_type": "code",
   "execution_count": 5,
   "metadata": {},
   "outputs": [
    {
     "name": "stdout",
     "output_type": "stream",
     "text": [
      "e= 1 , [0, x + 1] \n",
      "            2\n",
      "e= 2 , [0, x  + 1] \n",
      "e= 3 , [1, x] \n",
      "            2\n",
      "e= 4 , [x, x  + x + 1] \n",
      "         2       2\n",
      "e= 5 , [x  + 1, x  + x] \n",
      "         3           2\n",
      "e= 6 , [x  + x + 1, x ] \n",
      "         4    2\n",
      "e= 7 , [x  + x  + x + 1, 0] \n"
     ]
    },
    {
     "data": {
      "text/latex": [
       "$$\\mathbf{done}$$"
      ],
      "text/plain": [
       "done"
      ]
     },
     "execution_count": 5,
     "metadata": {},
     "output_type": "execute_result"
    }
   ],
   "source": [
    "for e:1 thru p^n-1 do print(\"e=\",e,\",\",divide(x^e-1,f));"
   ]
  },
  {
   "cell_type": "code",
   "execution_count": 6,
   "metadata": {},
   "outputs": [
    {
     "data": {
      "text/latex": [
       "$$\\mathbf{true}$$"
      ],
      "text/plain": [
       "true"
      ]
     },
     "execution_count": 6,
     "metadata": {},
     "output_type": "execute_result"
    }
   ],
   "source": [
    "gf_primitive_poly_p(f,p);"
   ]
  },
  {
   "cell_type": "code",
   "execution_count": 7,
   "metadata": {},
   "outputs": [
    {
     "data": {
      "text/latex": [
       "$$\\left(x+1\\right)\\,\\left(x^3+x+1\\right)\\,\\left(x^3+x^2+1\\right)$$"
      ],
      "text/plain": [
       "(x+1)*(x^3+x+1)*(x^3+x^2+1)"
      ]
     },
     "execution_count": 7,
     "metadata": {},
     "output_type": "execute_result"
    }
   ],
   "source": [
    "factor(x^(p^n-1)-1);"
   ]
  },
  {
   "cell_type": "markdown",
   "metadata": {},
   "source": [
    "### Universal polynomial : $U(x) = x^{p^n} - x$"
   ]
  },
  {
   "cell_type": "markdown",
   "metadata": {},
   "source": [
    "The universal polynomial is the product of all irreducible polynomials of degree $d$ for $\\forall d : d \\mid n$"
   ]
  },
  {
   "cell_type": "code",
   "execution_count": 8,
   "metadata": {},
   "outputs": [
    {
     "data": {
      "text/latex": [
       "$$x\\,\\left(x+1\\right)\\,\\left(x^3+x+1\\right)\\,\\left(x^3+x^2+1\\right)$$"
      ],
      "text/plain": [
       "x*(x+1)*(x^3+x+1)*(x^3+x^2+1)"
      ]
     },
     "execution_count": 8,
     "metadata": {},
     "output_type": "execute_result"
    }
   ],
   "source": [
    "factor(x^p^n -x);"
   ]
  },
  {
   "cell_type": "markdown",
   "metadata": {},
   "source": [
    "### If $f(x)$ is a primitive polynomial of degree $n$ over $\\mathbb{Z}_p$ then $x$ is a generator of $\\mathbb{F}_{p^n} = \\mathbb{Z}_p[x]/f(x)$ "
   ]
  },
  {
   "cell_type": "code",
   "execution_count": 9,
   "metadata": {},
   "outputs": [
    {
     "data": {
      "text/latex": [
       "$$\\mbox{ Structure [GF-DATA] }$$"
      ],
      "text/plain": [
       "?Structure\\ \\[GF\\-DATA\\]"
      ]
     },
     "execution_count": 9,
     "metadata": {},
     "output_type": "execute_result"
    }
   ],
   "source": [
    "gf_set_data(p,n);"
   ]
  },
  {
   "cell_type": "code",
   "execution_count": 10,
   "metadata": {},
   "outputs": [
    {
     "name": "stdout",
     "output_type": "stream",
     "text": [
      "x^ 1 = x \n",
      "        2\n",
      "x^ 2 = x  \n",
      "x^ 3 = x + 1 \n",
      "        2\n",
      "x^ 4 = x  + x \n",
      "        2\n",
      "x^ 5 = x  + x + 1 \n",
      "        2\n",
      "x^ 6 = x  + 1 \n",
      "x^ 7 = 1 \n"
     ]
    },
    {
     "data": {
      "text/latex": [
       "$$\\mathbf{done}$$"
      ],
      "text/plain": [
       "done"
      ]
     },
     "execution_count": 10,
     "metadata": {},
     "output_type": "execute_result"
    }
   ],
   "source": [
    "for i:1 thru p^n-1 do print(\"x^\",i,\"=\",gf_exp(x,i));"
   ]
  },
  {
   "cell_type": "markdown",
   "metadata": {},
   "source": [
    "### The above should give you a hint of why the LFSR works. Multiplying by $x$ is shifting left.\n",
    "\n",
    "If $x$ is a generator then the order of $x$ should be $p^n-1$"
   ]
  },
  {
   "cell_type": "code",
   "execution_count": 11,
   "metadata": {},
   "outputs": [
    {
     "name": "stdout",
     "output_type": "stream",
     "text": [
      "x  has order  7 \n",
      " 2\n",
      "x   has order  7 \n",
      "x + 1  has order  7 \n",
      " 2\n",
      "x  + x  has order  7 \n",
      " 2\n",
      "x  + x + 1  has order  7 \n",
      " 2\n",
      "x  + 1  has order  7 \n"
     ]
    },
    {
     "data": {
      "text/latex": [
       "$$\\mathbf{done}$$"
      ],
      "text/plain": [
       "done"
      ]
     },
     "execution_count": 11,
     "metadata": {},
     "output_type": "execute_result"
    }
   ],
   "source": [
    "for i:1 thru p^n-2 do print(gf_exp(x,i),\" has order \",gf_order(gf_exp(x,i)));"
   ]
  },
  {
   "cell_type": "markdown",
   "metadata": {},
   "source": [
    "### If we know the factorization of $p^n - 1$ then we can check that  $\\forall~ primes ~q|(p^n-1), f \\nmid x^\\frac{p^n-1}{q}-1$"
   ]
  },
  {
   "cell_type": "code",
   "execution_count": 12,
   "metadata": {},
   "outputs": [
    {
     "data": {
      "text/latex": [
       "$$3$$"
      ],
      "text/plain": [
       "3"
      ]
     },
     "execution_count": 12,
     "metadata": {},
     "output_type": "execute_result"
    }
   ],
   "source": [
    "modulus:3;"
   ]
  },
  {
   "cell_type": "code",
   "execution_count": 13,
   "metadata": {},
   "outputs": [
    {
     "data": {
      "text/latex": [
       "$$3$$"
      ],
      "text/plain": [
       "3"
      ]
     },
     "execution_count": 13,
     "metadata": {},
     "output_type": "execute_result"
    }
   ],
   "source": [
    "p:3;"
   ]
  },
  {
   "cell_type": "code",
   "execution_count": 14,
   "metadata": {},
   "outputs": [
    {
     "data": {
      "text/latex": [
       "$$4$$"
      ],
      "text/plain": [
       "4"
      ]
     },
     "execution_count": 14,
     "metadata": {},
     "output_type": "execute_result"
    }
   ],
   "source": [
    "n:4;"
   ]
  },
  {
   "cell_type": "code",
   "execution_count": 15,
   "metadata": {},
   "outputs": [
    {
     "data": {
      "text/latex": [
       "$$x^4+x+2$$"
      ],
      "text/plain": [
       "x^4+x+2"
      ]
     },
     "execution_count": 15,
     "metadata": {},
     "output_type": "execute_result"
    }
   ],
   "source": [
    "f:gf_primitive_poly(p,n);"
   ]
  },
  {
   "cell_type": "code",
   "execution_count": 16,
   "metadata": {},
   "outputs": [
    {
     "data": {
      "text/latex": [
       "$$\\left[ \\left[ 2 , 4 \\right]  , \\left[ 5 , 1 \\right]  \\right] $$"
      ],
      "text/plain": [
       "[[2,4],[5,1]]"
      ]
     },
     "execution_count": 16,
     "metadata": {},
     "output_type": "execute_result"
    }
   ],
   "source": [
    "ifactors(p^n-1);"
   ]
  },
  {
   "cell_type": "markdown",
   "metadata": {},
   "source": [
    "### Prime factors of $80$ are $2,5$"
   ]
  },
  {
   "cell_type": "code",
   "execution_count": 17,
   "metadata": {},
   "outputs": [
    {
     "data": {
      "text/latex": [
       "$$2$$"
      ],
      "text/plain": [
       "2"
      ]
     },
     "execution_count": 17,
     "metadata": {},
     "output_type": "execute_result"
    }
   ],
   "source": [
    "q:2;"
   ]
  },
  {
   "cell_type": "code",
   "execution_count": 18,
   "metadata": {},
   "outputs": [
    {
     "data": {
      "text/latex": [
       "$$\\left[ x^{36}-x^{33}+x^{32}+x^{30}+x^{29}+x^{28}-x^{27}-x^{24}-x^{\n",
       " 23}+x^{21}-x^{19}-x^{18}+x^{17}+x^{16}+x^{14}+x^{12}-x^{11}+x^{10}-x\n",
       " ^9-x^8+x^7-x^6+x^4-x^3-x^2-x-1 , 1 \\right] $$"
      ],
      "text/plain": [
       "[x^36-x^33+x^32+x^30+x^29+x^28-x^27-x^24-x^23+x^21-x^19-x^18+x^17+x^16+x^14\n",
       "     +x^12-x^11+x^10-x^9-x^8+x^7-x^6+x^4-x^3-x^2-x-1,1]"
      ]
     },
     "execution_count": 18,
     "metadata": {},
     "output_type": "execute_result"
    }
   ],
   "source": [
    "divide(x^((p^n-1)/q)-1,f);"
   ]
  },
  {
   "cell_type": "code",
   "execution_count": 19,
   "metadata": {},
   "outputs": [
    {
     "data": {
      "text/latex": [
       "$$5$$"
      ],
      "text/plain": [
       "5"
      ]
     },
     "execution_count": 19,
     "metadata": {},
     "output_type": "execute_result"
    }
   ],
   "source": [
    "q:5;"
   ]
  },
  {
   "cell_type": "code",
   "execution_count": 20,
   "metadata": {},
   "outputs": [
    {
     "data": {
      "text/latex": [
       "$$\\left[ x^{12}-x^9+x^8+x^6+x^5+x^4-x^3-1 , -x^3+x+1 \\right] $$"
      ],
      "text/plain": [
       "[x^12-x^9+x^8+x^6+x^5+x^4-x^3-1,(-x^3)+x+1]"
      ]
     },
     "execution_count": 20,
     "metadata": {},
     "output_type": "execute_result"
    }
   ],
   "source": [
    "divide(x^((p^n-1)/q)-1,f);"
   ]
  },
  {
   "cell_type": "code",
   "execution_count": null,
   "metadata": {
    "collapsed": true
   },
   "outputs": [],
   "source": []
  },
  {
   "cell_type": "code",
   "execution_count": null,
   "metadata": {
    "collapsed": true
   },
   "outputs": [],
   "source": []
  }
 ],
 "metadata": {
  "kernelspec": {
   "display_name": "Maxima",
   "language": "maxima",
   "name": "maxima"
  },
  "language_info": {
   "codemirror_mode": "maxima",
   "mimetype": "text/x-maxima",
   "name": "maxima",
   "pygments_lexer": "maxima",
   "version": "circa-5.37"
  }
 },
 "nbformat": 4,
 "nbformat_minor": 1
}
