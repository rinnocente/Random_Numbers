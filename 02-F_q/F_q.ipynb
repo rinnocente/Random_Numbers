{
 "cells": [
  {
   "cell_type": "markdown",
   "metadata": {},
   "source": [
    "# Prime Power Fields : $\\mathbb{F}_q = \\mathbb{Z}_{p}[x]/m(x) = GF(p^n)$"
   ]
  },
  {
   "cell_type": "code",
   "execution_count": null,
   "metadata": {
    "collapsed": true
   },
   "outputs": [],
   "source": [
    "p:3"
   ]
  },
  {
   "cell_type": "code",
   "execution_count": null,
   "metadata": {
    "collapsed": true
   },
   "outputs": [],
   "source": [
    "n:2"
   ]
  },
  {
   "cell_type": "code",
   "execution_count": 3,
   "metadata": {
    "collapsed": false
   },
   "outputs": [
    {
     "data": {
      "text/latex": [
       "$$\\mbox{ Structure [GF-DATA] }$$"
      ],
      "text/plain": [
       "?Structure\\ \\[GF\\-DATA\\]"
      ]
     },
     "execution_count": 3,
     "metadata": {},
     "output_type": "execute_result"
    }
   ],
   "source": [
    "gf_set_data(p,n)"
   ]
  },
  {
   "cell_type": "code",
   "execution_count": 4,
   "metadata": {
    "collapsed": false
   },
   "outputs": [
    {
     "name": "stdout",
     "output_type": "stream",
     "text": [
      "characteristic = 3\n",
      "reduction polynomial = x^2+1\n",
      "primitive element = x+1\n",
      "nr of elements = 9\n",
      "nr of units = 8\n",
      "nr of primitive elements = 4 \n"
     ]
    },
    {
     "data": {
      "text/latex": [
       "$$\\mathbf{false}$$"
      ],
      "text/plain": [
       "false"
      ]
     },
     "execution_count": 4,
     "metadata": {},
     "output_type": "execute_result"
    }
   ],
   "source": [
    "gf_info()"
   ]
  },
  {
   "cell_type": "code",
   "execution_count": 18,
   "metadata": {
    "collapsed": false
   },
   "outputs": [
    {
     "data": {
      "text/latex": [
       "$$\\pmatrix{0&1&2&3&4&5&6&7&8\\cr 1&2&0&4&5&3&7&8&6\\cr 2&0&1&5&3&4&8&6&\n",
       " 7\\cr 3&4&5&6&7&8&0&1&2\\cr 4&5&3&7&8&6&1&2&0\\cr 5&3&4&8&6&7&2&0&1\\cr \n",
       " 6&7&8&0&1&2&3&4&5\\cr 7&8&6&1&2&0&4&5&3\\cr 8&6&7&2&0&1&5&3&4\\cr }$$"
      ],
      "text/plain": [
       "matrix([0,1,2,3,4,5,6,7,8],[1,2,0,4,5,3,7,8,6],[2,0,1,5,3,4,8,6,7],\n",
       "       [3,4,5,6,7,8,0,1,2],[4,5,3,7,8,6,1,2,0],[5,3,4,8,6,7,2,0,1],\n",
       "       [6,7,8,0,1,2,3,4,5],[7,8,6,1,2,0,4,5,3],[8,6,7,2,0,1,5,3,4])"
      ]
     },
     "execution_count": 18,
     "metadata": {},
     "output_type": "execute_result"
    }
   ],
   "source": [
    "atable:gf_add_table()"
   ]
  },
  {
   "cell_type": "code",
   "execution_count": 19,
   "metadata": {
    "collapsed": false
   },
   "outputs": [
    {
     "data": {
      "text/latex": [
       "$$\\mathbf{done}$$"
      ],
      "text/plain": [
       "done"
      ]
     },
     "execution_count": 19,
     "metadata": {},
     "output_type": "execute_result"
    }
   ],
   "source": [
    "for i:1 thru p^n do for j:1 thru p^n do atable[i,j]:gf_n2p(atable[i,j])"
   ]
  },
  {
   "cell_type": "code",
   "execution_count": 20,
   "metadata": {
    "collapsed": false
   },
   "outputs": [
    {
     "name": "stdout",
     "output_type": "stream",
     "text": [
      "         [    0    ]         [    1    ]         [    2    ]\n",
      "         [         ]         [         ]         [         ]\n",
      "         [    1    ]         [    2    ]         [    0    ]\n",
      "         [         ]         [         ]         [         ]\n",
      "         [    2    ]         [    0    ]         [    1    ]\n",
      "         [         ]         [         ]         [         ]\n",
      "         [    x    ]         [  x + 1  ]         [  x + 2  ]\n",
      "         [         ]         [         ]         [         ]\n",
      " Col 1 = [  x + 1  ] Col 2 = [  x + 2  ] Col 3 = [    x    ]\n",
      "         [         ]         [         ]         [         ]\n",
      "         [  x + 2  ]         [    x    ]         [  x + 1  ]\n",
      "         [         ]         [         ]         [         ]\n",
      "         [   2 x   ]         [ 2 x + 1 ]         [ 2 x + 2 ]\n",
      "         [         ]         [         ]         [         ]\n",
      "         [ 2 x + 1 ]         [ 2 x + 2 ]         [   2 x   ]\n",
      "         [         ]         [         ]         [         ]\n",
      "         [ 2 x + 2 ]         [   2 x   ]         [ 2 x + 1 ]\n",
      "         [    x    ]         [  x + 1  ]         [  x + 2  ]\n",
      "         [         ]         [         ]         [         ]\n",
      "         [  x + 1  ]         [  x + 2  ]         [    x    ]\n",
      "         [         ]         [         ]         [         ]\n",
      "         [  x + 2  ]         [    x    ]         [  x + 1  ]\n",
      "         [         ]         [         ]         [         ]\n",
      "         [   2 x   ]         [ 2 x + 1 ]         [ 2 x + 2 ]\n",
      "         [         ]         [         ]         [         ]\n",
      " Col 4 = [ 2 x + 1 ] Col 5 = [ 2 x + 2 ] Col 6 = [   2 x   ]\n",
      "         [         ]         [         ]         [         ]\n",
      "         [ 2 x + 2 ]         [   2 x   ]         [ 2 x + 1 ]\n",
      "         [         ]         [         ]         [         ]\n",
      "         [    0    ]         [    1    ]         [    2    ]\n",
      "         [         ]         [         ]         [         ]\n",
      "         [    1    ]         [    2    ]         [    0    ]\n",
      "         [         ]         [         ]         [         ]\n",
      "         [    2    ]         [    0    ]         [    1    ]\n",
      "         [   2 x   ]         [ 2 x + 1 ]         [ 2 x + 2 ]\n",
      "         [         ]         [         ]         [         ]\n",
      "         [ 2 x + 1 ]         [ 2 x + 2 ]         [   2 x   ]\n",
      "         [         ]         [         ]         [         ]\n",
      "         [ 2 x + 2 ]         [   2 x   ]         [ 2 x + 1 ]\n",
      "         [         ]         [         ]         [         ]\n",
      "         [    0    ]         [    1    ]         [    2    ]\n",
      "         [         ]         [         ]         [         ]\n",
      " Col 7 = [    1    ] Col 8 = [    2    ] Col 9 = [    0    ] \n",
      "         [         ]         [         ]         [         ]\n",
      "         [    2    ]         [    0    ]         [    1    ]\n",
      "         [         ]         [         ]         [         ]\n",
      "         [    x    ]         [  x + 1  ]         [  x + 2  ]\n",
      "         [         ]         [         ]         [         ]\n",
      "         [  x + 1  ]         [  x + 2  ]         [    x    ]\n",
      "         [         ]         [         ]         [         ]\n",
      "         [  x + 2  ]         [    x    ]         [  x + 1  ]\n"
     ]
    },
    {
     "data": {
      "text/latex": [
       "$$\\pmatrix{0&1&2&x&x+1&x+2&2\\,x&2\\,x+1&2\\,x+2\\cr 1&2&0&x+1&x+2&x&2\\,x\n",
       " +1&2\\,x+2&2\\,x\\cr 2&0&1&x+2&x&x+1&2\\,x+2&2\\,x&2\\,x+1\\cr x&x+1&x+2&2\n",
       " \\,x&2\\,x+1&2\\,x+2&0&1&2\\cr x+1&x+2&x&2\\,x+1&2\\,x+2&2\\,x&1&2&0\\cr x+2\n",
       " &x&x+1&2\\,x+2&2\\,x&2\\,x+1&2&0&1\\cr 2\\,x&2\\,x+1&2\\,x+2&0&1&2&x&x+1&x+\n",
       " 2\\cr 2\\,x+1&2\\,x+2&2\\,x&1&2&0&x+1&x+2&x\\cr 2\\,x+2&2\\,x&2\\,x+1&2&0&1&\n",
       " x+2&x&x+1\\cr }$$"
      ],
      "text/plain": [
       "matrix([0,1,2,x,x+1,x+2,2*x,2*x+1,2*x+2],[1,2,0,x+1,x+2,x,2*x+1,2*x+2,2*x],\n",
       "       [2,0,1,x+2,x,x+1,2*x+2,2*x,2*x+1],[x,x+1,x+2,2*x,2*x+1,2*x+2,0,1,2],\n",
       "       [x+1,x+2,x,2*x+1,2*x+2,2*x,1,2,0],[x+2,x,x+1,2*x+2,2*x,2*x+1,2,0,1],\n",
       "       [2*x,2*x+1,2*x+2,0,1,2,x,x+1,x+2],[2*x+1,2*x+2,2*x,1,2,0,x+1,x+2,x],\n",
       "       [2*x+2,2*x,2*x+1,2,0,1,x+2,x,x+1])"
      ]
     },
     "execution_count": 20,
     "metadata": {},
     "output_type": "execute_result"
    }
   ],
   "source": [
    "print(atable)$"
   ]
  },
  {
   "cell_type": "code",
   "execution_count": 21,
   "metadata": {
    "collapsed": false
   },
   "outputs": [
    {
     "data": {
      "text/latex": [
       "$$\\pmatrix{1&2&3&4&5&6&7&8\\cr 2&1&6&8&7&3&5&4\\cr 3&6&2&5&8&1&4&7\\cr 4\n",
       " &8&5&6&1&7&2&3\\cr 5&7&8&1&3&4&6&2\\cr 6&3&1&7&4&2&8&5\\cr 7&5&4&2&6&8&\n",
       " 3&1\\cr 8&4&7&3&2&5&1&6\\cr }$$"
      ],
      "text/plain": [
       "matrix([1,2,3,4,5,6,7,8],[2,1,6,8,7,3,5,4],[3,6,2,5,8,1,4,7],\n",
       "       [4,8,5,6,1,7,2,3],[5,7,8,1,3,4,6,2],[6,3,1,7,4,2,8,5],\n",
       "       [7,5,4,2,6,8,3,1],[8,4,7,3,2,5,1,6])"
      ]
     },
     "execution_count": 21,
     "metadata": {},
     "output_type": "execute_result"
    }
   ],
   "source": [
    "mtable:gf_mult_table()$"
   ]
  },
  {
   "cell_type": "code",
   "execution_count": 23,
   "metadata": {
    "collapsed": false
   },
   "outputs": [
    {
     "data": {
      "text/latex": [
       "$$\\mathbf{done}$$"
      ],
      "text/plain": [
       "done"
      ]
     },
     "execution_count": 23,
     "metadata": {},
     "output_type": "execute_result"
    }
   ],
   "source": [
    "for i:1 thru p^n-1 do for j:1 thru p^n-1 do mtable[i,j]:gf_n2p(mtable[i,j])"
   ]
  },
  {
   "cell_type": "code",
   "execution_count": 24,
   "metadata": {
    "collapsed": false
   },
   "outputs": [
    {
     "name": "stdout",
     "output_type": "stream",
     "text": [
      "[    1        2        x      x + 1    x + 2     2 x    2 x + 1  2 x + 2 ]\n",
      "[                                                                        ]\n",
      "[    2        1       2 x    2 x + 2  2 x + 1     x      x + 2    x + 1  ]\n",
      "[                                                                        ]\n",
      "[    x       2 x       2      x + 2   2 x + 2     1      x + 1   2 x + 1 ]\n",
      "[                                                                        ]\n",
      "[  x + 1   2 x + 2   x + 2     2 x       1     2 x + 1     2        x    ]\n",
      "[                                                                        ] \n",
      "[  x + 2   2 x + 1  2 x + 2     1        x      x + 1     2 x       2    ]\n",
      "[                                                                        ]\n",
      "[   2 x       x        1     2 x + 1   x + 1      2     2 x + 2   x + 2  ]\n",
      "[                                                                        ]\n",
      "[ 2 x + 1   x + 2    x + 1      2       2 x    2 x + 2     x        1    ]\n",
      "[                                                                        ]\n",
      "[ 2 x + 2   x + 1   2 x + 1     x        2      x + 2      1       2 x   ]\n"
     ]
    },
    {
     "data": {
      "text/latex": [
       "$$\\pmatrix{1&2&x&x+1&x+2&2\\,x&2\\,x+1&2\\,x+2\\cr 2&1&2\\,x&2\\,x+2&2\\,x+1\n",
       " &x&x+2&x+1\\cr x&2\\,x&2&x+2&2\\,x+2&1&x+1&2\\,x+1\\cr x+1&2\\,x+2&x+2&2\\,\n",
       " x&1&2\\,x+1&2&x\\cr x+2&2\\,x+1&2\\,x+2&1&x&x+1&2\\,x&2\\cr 2\\,x&x&1&2\\,x+\n",
       " 1&x+1&2&2\\,x+2&x+2\\cr 2\\,x+1&x+2&x+1&2&2\\,x&2\\,x+2&x&1\\cr 2\\,x+2&x+1\n",
       " &2\\,x+1&x&2&x+2&1&2\\,x\\cr }$$"
      ],
      "text/plain": [
       "matrix([1,2,x,x+1,x+2,2*x,2*x+1,2*x+2],[2,1,2*x,2*x+2,2*x+1,x,x+2,x+1],\n",
       "       [x,2*x,2,x+2,2*x+2,1,x+1,2*x+1],[x+1,2*x+2,x+2,2*x,1,2*x+1,2,x],\n",
       "       [x+2,2*x+1,2*x+2,1,x,x+1,2*x,2],[2*x,x,1,2*x+1,x+1,2,2*x+2,x+2],\n",
       "       [2*x+1,x+2,x+1,2,2*x,2*x+2,x,1],[2*x+2,x+1,2*x+1,x,2,x+2,1,2*x])"
      ]
     },
     "execution_count": 24,
     "metadata": {},
     "output_type": "execute_result"
    }
   ],
   "source": [
    "print(mtable)"
   ]
  },
  {
   "cell_type": "code",
   "execution_count": 25,
   "metadata": {
    "collapsed": false
   },
   "outputs": [
    {
     "data": {
      "text/latex": [
       "$$\\left[ \\mbox{ \"{Lisp Array: \\#(1 4 6 7 2 8 3 5 1)}\" } , \n",
       " \\mbox{ \"{Lisp Array: \\#(NIL 0 4 6 1 7 2 3 5)}\" } , \n",
       " \\mbox{ \"{Lisp Array: \\#(4 7 3 5 NIL 2 1 6 4)}\" } \\right] $$"
      ],
      "text/plain": [
       "[\"{Lisp Array: #(1 4 6 7 2 8 3 5 1)}\",\"{Lisp Array: #(NIL 0 4 6 1 7 2 3 5)}\",\n",
       " \"{Lisp Array: #(4 7 3 5 NIL 2 1 6 4)}\"]"
      ]
     },
     "execution_count": 25,
     "metadata": {},
     "output_type": "execute_result"
    }
   ],
   "source": [
    "gf_make_logs()"
   ]
  },
  {
   "cell_type": "code",
   "execution_count": 31,
   "metadata": {
    "collapsed": false
   },
   "outputs": [
    {
     "name": "stdout",
     "output_type": "stream",
     "text": [
      "( x + 1 )^ 1 = x + 1 \n",
      "( x + 1 )^ 2 = 2 x \n",
      "( x + 1 )^ 3 = 2 x + 1 \n",
      "( x + 1 )^ 4 = 2 \n",
      "( x + 1 )^ 5 = 2 x + 2 \n",
      "( x + 1 )^ 6 = x \n",
      "( x + 1 )^ 7 = x + 2 \n",
      "( x + 1 )^ 8 = 1 \n"
     ]
    },
    {
     "data": {
      "text/latex": [
       "$$\\mathbf{done}$$"
      ],
      "text/plain": [
       "done"
      ]
     },
     "execution_count": 31,
     "metadata": {},
     "output_type": "execute_result"
    }
   ],
   "source": [
    "for i:1 thru p^n-1 do print(\"(\",gf_primitive(),\")^\",i,\"=\",gf_n2p(gf_powers[i]))"
   ]
  },
  {
   "cell_type": "code",
   "execution_count": 32,
   "metadata": {
    "collapsed": false
   },
   "outputs": [
    {
     "name": "stdout",
     "output_type": "stream",
     "text": [
      "1  has order  1 \n",
      "2  has order  2 \n",
      "x  has order  4 \n",
      "x + 1  has order  8 \n",
      "x + 2  has order  8 \n",
      "2 x  has order  4 \n",
      "2 x + 1  has order  8 \n",
      "2 x + 2  has order  8 \n"
     ]
    },
    {
     "data": {
      "text/latex": [
       "$$\\mathbf{done}$$"
      ],
      "text/plain": [
       "done"
      ]
     },
     "execution_count": 32,
     "metadata": {},
     "output_type": "execute_result"
    }
   ],
   "source": [
    "for i:1 thru p^n-1 do print(gf_n2p(i),\" has order \",gf_order(gf_n2p(i)))"
   ]
  },
  {
   "cell_type": "code",
   "execution_count": 35,
   "metadata": {
    "collapsed": false
   },
   "outputs": [
    {
     "data": {
      "text/latex": [
       "$$x\\,\\left(x+1\\right)\\,\\left(x+2\\right)\\,\\left(x^2+1\\right)\\,\\left(x^\n",
       " 2+x+2\\right)\\,\\left(x^2+2\\,x+2\\right)$$"
      ],
      "text/plain": [
       "x*(x+1)*(x+2)*(x^2+1)*(x^2+x+2)*(x^2+2*x+2)"
      ]
     },
     "execution_count": 35,
     "metadata": {},
     "output_type": "execute_result"
    }
   ],
   "source": [
    "gf_factor(x^(p^n)-x,3)"
   ]
  },
  {
   "cell_type": "markdown",
   "metadata": {},
   "source": [
    "## Universal Polynomial : $ x^{p^n} - x $\n",
    "\n",
    "factors in all irreducible monic polynomials of degree $ k \\mid n $\n",
    "In this case $n = 2$ and therefore it factors in all irreducibles of\n",
    "degree 1 or 2"
   ]
  },
  {
   "cell_type": "code",
   "execution_count": 64,
   "metadata": {
    "collapsed": false
   },
   "outputs": [
    {
     "data": {
      "text/latex": [
       "$$x\\,\\left(x+1\\right)\\,\\left(x+2\\right)\\,\\left(x^2+1\\right)\\,\\left(x^\n",
       " 2+x+2\\right)\\,\\left(x^2+2\\,x+2\\right)$$"
      ],
      "text/plain": [
       "x*(x+1)*(x+2)*(x^2+1)*(x^2+x+2)*(x^2+2*x+2)"
      ]
     },
     "execution_count": 64,
     "metadata": {},
     "output_type": "execute_result"
    }
   ],
   "source": [
    "gf_factor(x^p^n-x)"
   ]
  },
  {
   "cell_type": "code",
   "execution_count": 64,
   "metadata": {
    "collapsed": false
   },
   "outputs": [
    {
     "data": {
      "text/latex": [
       "$$x^2+1$$"
      ],
      "text/plain": [
       "x^2+1"
      ]
     },
     "execution_count": 64,
     "metadata": {},
     "output_type": "execute_result"
    }
   ],
   "source": [
    "gf_factor(x^2+1)"
   ]
  },
  {
   "cell_type": "code",
   "execution_count": 64,
   "metadata": {
    "collapsed": false
   },
   "outputs": [
    {
     "name": "stdout",
     "output_type": "stream",
     "text": [
      "x \n",
      "x + 2 \n",
      "x + 1 \n",
      "0 \n",
      "2 \n",
      "1 \n",
      "2 x \n",
      "2 x + 2 \n",
      "2 x + 1 \n"
     ]
    },
    {
     "data": {
      "text/latex": [
       "$$\\mathbf{done}$$"
      ],
      "text/plain": [
       "done"
      ]
     },
     "execution_count": 64,
     "metadata": {},
     "output_type": "execute_result"
    }
   ],
   "source": [
    "for i:0 thru p^n-1 do ( print(gf_add(x,-gf_n2p(i))))"
   ]
  },
  {
   "cell_type": "code",
   "execution_count": null,
   "metadata": {
    "collapsed": true
   },
   "outputs": [],
   "source": []
  }
 ],
 "metadata": {
  "kernelspec": {
   "display_name": "Maxima",
   "language": "maxima",
   "name": "maxima"
  },
  "language_info": {
   "codemirror_mode": "maxima",
   "mimetype": "text/x-maxima",
   "name": "maxima",
   "pygments_lexer": "maxima",
   "version": "circa-5.37"
  }
 },
 "nbformat": 4,
 "nbformat_minor": 1
}
