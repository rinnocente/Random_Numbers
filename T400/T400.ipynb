{
 "cells": [
  {
   "cell_type": "markdown",
   "metadata": {},
   "source": [
    "# T400 Twisted GFSR\n",
    "## based on $GFSR(25,x^{25}+x^{11}+1)$\n",
    "\n",
    "n=25 words x w=16 bits = 400 bits, \n",
    "twisting vector $\\bf{a} = 0xA875 $ (a 16 bits vector)\n",
    "\n",
    "twisting matrix \n",
    "$~ ~ A = \\begin{bmatrix} \\begin{matrix} 0_{15x1} &  I_{15x15} \\end{matrix} \\\\ \\bf{a}_{1x16} \\end{bmatrix} $ (a 16x16 bits array)\n",
    "\n",
    "if we let $x = [ x_{0}\\dots x_{w-2}  x_{w-1} ]$ then the block multiplication is \n",
    "$$ [x_{0}\\dots x_{w-2}\\mid x_{w-1}] ~ . ~  \\begin{bmatrix} \\begin{matrix} 0_{15x1}  &  I_{15x15}  \\\\ \\hline  a_0  & a_1 \\dots a_{15} \\end{matrix} \\end{bmatrix} = \\begin{bmatrix} \\begin{matrix} x_{w-1} . a_0 &  x_{0}+x_{w-1}*a_1\\dots x_{w-2}+x_{w-1}*a_{16} \\end{matrix}  \\end{bmatrix} = \\begin{bmatrix} x_{w-1} . {\\bf a}_{1x16} \\oplus shiftright({\\bf x})   \\end{bmatrix}$$\n",
    "\n",
    "The form of $A$ is dictated by the necessity to make it simple to multiply by it :\n",
    "$${\\bf x} . {\\bf A} ~= ~ if ~(x_{w-1} ~= ~0)~ then~shiftright({\\bf x}) ~else~ shiftright({\\bf x}) \\oplus {\\bf a}$$\n",
    "\n",
    "(Matsumoto, Kurita, 1992) Theorem : if $\\varphi_A(x)$ is the characteristic polynomial of the $w\\times w$ bits matrix $A$\n",
    "and $\\varphi_A(t^n+t^m)$ is of degree $nw$ and is primitive then the period of :\n",
    "$$ x_{l+n} = x_{l+m} \\oplus x_l . A$$\n",
    "is $2^{n w} - 1$.\n",
    "\n",
    "This generator returns the random floats $\\frac{x} {2^{16}}$\n"
   ]
  },
  {
   "cell_type": "code",
   "execution_count": 26,
   "metadata": {
    "collapsed": false
   },
   "outputs": [
    {
     "data": {
      "text/latex": [
       "$$\\pmatrix{1&0&0&0&0&0&0&0&0&0&0&0&0&0&0\\cr 0&1&0&0&0&0&0&0&0&0&0&0&0\n",
       " &0&0\\cr 0&0&1&0&0&0&0&0&0&0&0&0&0&0&0\\cr 0&0&0&1&0&0&0&0&0&0&0&0&0&0\n",
       " &0\\cr 0&0&0&0&1&0&0&0&0&0&0&0&0&0&0\\cr 0&0&0&0&0&1&0&0&0&0&0&0&0&0&0\n",
       " \\cr 0&0&0&0&0&0&1&0&0&0&0&0&0&0&0\\cr 0&0&0&0&0&0&0&1&0&0&0&0&0&0&0\n",
       " \\cr 0&0&0&0&0&0&0&0&1&0&0&0&0&0&0\\cr 0&0&0&0&0&0&0&0&0&1&0&0&0&0&0\n",
       " \\cr 0&0&0&0&0&0&0&0&0&0&1&0&0&0&0\\cr 0&0&0&0&0&0&0&0&0&0&0&1&0&0&0\n",
       " \\cr 0&0&0&0&0&0&0&0&0&0&0&0&1&0&0\\cr 0&0&0&0&0&0&0&0&0&0&0&0&0&1&0\n",
       " \\cr 0&0&0&0&0&0&0&0&0&0&0&0&0&0&1\\cr }$$"
      ],
      "text/plain": [
       "matrix([1,0,0,0,0,0,0,0,0,0,0,0,0,0,0],[0,1,0,0,0,0,0,0,0,0,0,0,0,0,0],\n",
       "       [0,0,1,0,0,0,0,0,0,0,0,0,0,0,0],[0,0,0,1,0,0,0,0,0,0,0,0,0,0,0],\n",
       "       [0,0,0,0,1,0,0,0,0,0,0,0,0,0,0],[0,0,0,0,0,1,0,0,0,0,0,0,0,0,0],\n",
       "       [0,0,0,0,0,0,1,0,0,0,0,0,0,0,0],[0,0,0,0,0,0,0,1,0,0,0,0,0,0,0],\n",
       "       [0,0,0,0,0,0,0,0,1,0,0,0,0,0,0],[0,0,0,0,0,0,0,0,0,1,0,0,0,0,0],\n",
       "       [0,0,0,0,0,0,0,0,0,0,1,0,0,0,0],[0,0,0,0,0,0,0,0,0,0,0,1,0,0,0],\n",
       "       [0,0,0,0,0,0,0,0,0,0,0,0,1,0,0],[0,0,0,0,0,0,0,0,0,0,0,0,0,1,0],\n",
       "       [0,0,0,0,0,0,0,0,0,0,0,0,0,0,1])"
      ]
     },
     "execution_count": 26,
     "metadata": {},
     "output_type": "execute_result"
    }
   ],
   "source": [
    "a_15_ident:diagmatrix(15,1)$"
   ]
  },
  {
   "cell_type": "code",
   "execution_count": 27,
   "metadata": {
    "collapsed": false
   },
   "outputs": [
    {
     "data": {
      "text/latex": [
       "$$\\left[ 0 , 0 , 0 , 0 , 0 , 0 , 0 , 0 , 0 , 0 , 0 , 0 , 0 , 0 , 0\n",
       "  \\right] $$"
      ],
      "text/plain": [
       "[0,0,0,0,0,0,0,0,0,0,0,0,0,0,0]"
      ]
     },
     "execution_count": 27,
     "metadata": {},
     "output_type": "execute_result"
    }
   ],
   "source": [
    "a_15_zero_row:[0,0,0,0,0,0,0,0,0,0,0,0,0,0,0]"
   ]
  },
  {
   "cell_type": "code",
   "execution_count": 28,
   "metadata": {
    "collapsed": false
   },
   "outputs": [
    {
     "data": {
      "text/latex": [
       "$$\\pmatrix{0\\cr 0\\cr 0\\cr 0\\cr 0\\cr 0\\cr 0\\cr 0\\cr 0\\cr 0\\cr 0\\cr 0\n",
       " \\cr 0\\cr 0\\cr 0\\cr }$$"
      ],
      "text/plain": [
       "matrix([0],[0],[0],[0],[0],[0],[0],[0],[0],[0],[0],[0],[0],[0],[0])"
      ]
     },
     "execution_count": 28,
     "metadata": {},
     "output_type": "execute_result"
    }
   ],
   "source": [
    "a_15_zero_col:transpose(a_15_zero_row)"
   ]
  },
  {
   "cell_type": "code",
   "execution_count": 29,
   "metadata": {
    "collapsed": false
   },
   "outputs": [
    {
     "data": {
      "text/latex": [
       "$$\\pmatrix{0&0&0&0&0&0&0&0&0&0&0&0&0&0&0&0\\cr }$$"
      ],
      "text/plain": [
       "matrix([0,0,0,0,0,0,0,0,0,0,0,0,0,0,0,0])"
      ]
     },
     "execution_count": 29,
     "metadata": {},
     "output_type": "execute_result"
    }
   ],
   "source": [
    "a_16_zero_row:addcol(matrix(a_15_zero_row),matrix([0]))"
   ]
  },
  {
   "cell_type": "code",
   "execution_count": null,
   "metadata": {
    "collapsed": false
   },
   "outputs": [],
   "source": []
  },
  {
   "cell_type": "code",
   "execution_count": 30,
   "metadata": {
    "collapsed": false
   },
   "outputs": [
    {
     "data": {
      "text/latex": [
       "$$\\left[ 1 , 0 , 1 , 0 , 1 , 0 , 0 , 0 , 0 , 1 , 1 , 1 , 0 , 1 , 0 , \n",
       " 1 \\right] $$"
      ],
      "text/plain": [
       "[1,0,1,0,1,0,0,0,0,1,1,1,0,1,0,1]"
      ]
     },
     "execution_count": 30,
     "metadata": {},
     "output_type": "execute_result"
    }
   ],
   "source": [
    "a_16_vector_a:[1,0,1,0,1,0,0,0,0,1,1,1,0,1,0,1]"
   ]
  },
  {
   "cell_type": "code",
   "execution_count": 31,
   "metadata": {
    "collapsed": false
   },
   "outputs": [
    {
     "data": {
      "text/latex": [
       "$$\\pmatrix{0&1&0&0&0&0&0&0&0&0&0&0&0&0&0&0\\cr 0&0&1&0&0&0&0&0&0&0&0&0\n",
       " &0&0&0&0\\cr 0&0&0&1&0&0&0&0&0&0&0&0&0&0&0&0\\cr 0&0&0&0&1&0&0&0&0&0&0\n",
       " &0&0&0&0&0\\cr 0&0&0&0&0&1&0&0&0&0&0&0&0&0&0&0\\cr 0&0&0&0&0&0&1&0&0&0\n",
       " &0&0&0&0&0&0\\cr 0&0&0&0&0&0&0&1&0&0&0&0&0&0&0&0\\cr 0&0&0&0&0&0&0&0&1\n",
       " &0&0&0&0&0&0&0\\cr 0&0&0&0&0&0&0&0&0&1&0&0&0&0&0&0\\cr 0&0&0&0&0&0&0&0\n",
       " &0&0&1&0&0&0&0&0\\cr 0&0&0&0&0&0&0&0&0&0&0&1&0&0&0&0\\cr 0&0&0&0&0&0&0\n",
       " &0&0&0&0&0&1&0&0&0\\cr 0&0&0&0&0&0&0&0&0&0&0&0&0&1&0&0\\cr 0&0&0&0&0&0\n",
       " &0&0&0&0&0&0&0&0&1&0\\cr 0&0&0&0&0&0&0&0&0&0&0&0&0&0&0&1\\cr }$$"
      ],
      "text/plain": [
       "matrix([0,1,0,0,0,0,0,0,0,0,0,0,0,0,0,0],[0,0,1,0,0,0,0,0,0,0,0,0,0,0,0,0],\n",
       "       [0,0,0,1,0,0,0,0,0,0,0,0,0,0,0,0],[0,0,0,0,1,0,0,0,0,0,0,0,0,0,0,0],\n",
       "       [0,0,0,0,0,1,0,0,0,0,0,0,0,0,0,0],[0,0,0,0,0,0,1,0,0,0,0,0,0,0,0,0],\n",
       "       [0,0,0,0,0,0,0,1,0,0,0,0,0,0,0,0],[0,0,0,0,0,0,0,0,1,0,0,0,0,0,0,0],\n",
       "       [0,0,0,0,0,0,0,0,0,1,0,0,0,0,0,0],[0,0,0,0,0,0,0,0,0,0,1,0,0,0,0,0],\n",
       "       [0,0,0,0,0,0,0,0,0,0,0,1,0,0,0,0],[0,0,0,0,0,0,0,0,0,0,0,0,1,0,0,0],\n",
       "       [0,0,0,0,0,0,0,0,0,0,0,0,0,1,0,0],[0,0,0,0,0,0,0,0,0,0,0,0,0,0,1,0],\n",
       "       [0,0,0,0,0,0,0,0,0,0,0,0,0,0,0,1])"
      ]
     },
     "execution_count": 31,
     "metadata": {},
     "output_type": "execute_result"
    }
   ],
   "source": [
    "a_15x16:addcol(a_15_zero_col,a_15_ident)$"
   ]
  },
  {
   "cell_type": "code",
   "execution_count": 32,
   "metadata": {
    "collapsed": false
   },
   "outputs": [
    {
     "data": {
      "text/latex": [
       "$$\\pmatrix{0&1&0&0&0&0&0&0&0&0&0&0&0&0&0&0\\cr 0&0&1&0&0&0&0&0&0&0&0&0\n",
       " &0&0&0&0\\cr 0&0&0&1&0&0&0&0&0&0&0&0&0&0&0&0\\cr 0&0&0&0&1&0&0&0&0&0&0\n",
       " &0&0&0&0&0\\cr 0&0&0&0&0&1&0&0&0&0&0&0&0&0&0&0\\cr 0&0&0&0&0&0&1&0&0&0\n",
       " &0&0&0&0&0&0\\cr 0&0&0&0&0&0&0&1&0&0&0&0&0&0&0&0\\cr 0&0&0&0&0&0&0&0&1\n",
       " &0&0&0&0&0&0&0\\cr 0&0&0&0&0&0&0&0&0&1&0&0&0&0&0&0\\cr 0&0&0&0&0&0&0&0\n",
       " &0&0&1&0&0&0&0&0\\cr 0&0&0&0&0&0&0&0&0&0&0&1&0&0&0&0\\cr 0&0&0&0&0&0&0\n",
       " &0&0&0&0&0&1&0&0&0\\cr 0&0&0&0&0&0&0&0&0&0&0&0&0&1&0&0\\cr 0&0&0&0&0&0\n",
       " &0&0&0&0&0&0&0&0&1&0\\cr 0&0&0&0&0&0&0&0&0&0&0&0&0&0&0&1\\cr 0&0&0&0&0\n",
       " &0&0&0&0&0&0&0&0&0&0&0\\cr }$$"
      ],
      "text/plain": [
       "matrix([0,1,0,0,0,0,0,0,0,0,0,0,0,0,0,0],[0,0,1,0,0,0,0,0,0,0,0,0,0,0,0,0],\n",
       "       [0,0,0,1,0,0,0,0,0,0,0,0,0,0,0,0],[0,0,0,0,1,0,0,0,0,0,0,0,0,0,0,0],\n",
       "       [0,0,0,0,0,1,0,0,0,0,0,0,0,0,0,0],[0,0,0,0,0,0,1,0,0,0,0,0,0,0,0,0],\n",
       "       [0,0,0,0,0,0,0,1,0,0,0,0,0,0,0,0],[0,0,0,0,0,0,0,0,1,0,0,0,0,0,0,0],\n",
       "       [0,0,0,0,0,0,0,0,0,1,0,0,0,0,0,0],[0,0,0,0,0,0,0,0,0,0,1,0,0,0,0,0],\n",
       "       [0,0,0,0,0,0,0,0,0,0,0,1,0,0,0,0],[0,0,0,0,0,0,0,0,0,0,0,0,1,0,0,0],\n",
       "       [0,0,0,0,0,0,0,0,0,0,0,0,0,1,0,0],[0,0,0,0,0,0,0,0,0,0,0,0,0,0,1,0],\n",
       "       [0,0,0,0,0,0,0,0,0,0,0,0,0,0,0,1],[0,0,0,0,0,0,0,0,0,0,0,0,0,0,0,0])"
      ]
     },
     "execution_count": 32,
     "metadata": {},
     "output_type": "execute_result"
    }
   ],
   "source": [
    "shiftright_16x16:addrow(a_15x16,a_16_zero_row)"
   ]
  },
  {
   "cell_type": "code",
   "execution_count": 33,
   "metadata": {
    "collapsed": false
   },
   "outputs": [
    {
     "data": {
      "text/latex": [
       "$$\\pmatrix{0&1&0&0&0&0&0&0&0&0&0&0&0&0&0&0\\cr 0&0&1&0&0&0&0&0&0&0&0&0\n",
       " &0&0&0&0\\cr 0&0&0&1&0&0&0&0&0&0&0&0&0&0&0&0\\cr 0&0&0&0&1&0&0&0&0&0&0\n",
       " &0&0&0&0&0\\cr 0&0&0&0&0&1&0&0&0&0&0&0&0&0&0&0\\cr 0&0&0&0&0&0&1&0&0&0\n",
       " &0&0&0&0&0&0\\cr 0&0&0&0&0&0&0&1&0&0&0&0&0&0&0&0\\cr 0&0&0&0&0&0&0&0&1\n",
       " &0&0&0&0&0&0&0\\cr 0&0&0&0&0&0&0&0&0&1&0&0&0&0&0&0\\cr 0&0&0&0&0&0&0&0\n",
       " &0&0&1&0&0&0&0&0\\cr 0&0&0&0&0&0&0&0&0&0&0&1&0&0&0&0\\cr 0&0&0&0&0&0&0\n",
       " &0&0&0&0&0&1&0&0&0\\cr 0&0&0&0&0&0&0&0&0&0&0&0&0&1&0&0\\cr 0&0&0&0&0&0\n",
       " &0&0&0&0&0&0&0&0&1&0\\cr 0&0&0&0&0&0&0&0&0&0&0&0&0&0&0&1\\cr 1&0&1&0&1\n",
       " &0&0&0&0&1&1&1&0&1&0&1\\cr }$$"
      ],
      "text/plain": [
       "matrix([0,1,0,0,0,0,0,0,0,0,0,0,0,0,0,0],[0,0,1,0,0,0,0,0,0,0,0,0,0,0,0,0],\n",
       "       [0,0,0,1,0,0,0,0,0,0,0,0,0,0,0,0],[0,0,0,0,1,0,0,0,0,0,0,0,0,0,0,0],\n",
       "       [0,0,0,0,0,1,0,0,0,0,0,0,0,0,0,0],[0,0,0,0,0,0,1,0,0,0,0,0,0,0,0,0],\n",
       "       [0,0,0,0,0,0,0,1,0,0,0,0,0,0,0,0],[0,0,0,0,0,0,0,0,1,0,0,0,0,0,0,0],\n",
       "       [0,0,0,0,0,0,0,0,0,1,0,0,0,0,0,0],[0,0,0,0,0,0,0,0,0,0,1,0,0,0,0,0],\n",
       "       [0,0,0,0,0,0,0,0,0,0,0,1,0,0,0,0],[0,0,0,0,0,0,0,0,0,0,0,0,1,0,0,0],\n",
       "       [0,0,0,0,0,0,0,0,0,0,0,0,0,1,0,0],[0,0,0,0,0,0,0,0,0,0,0,0,0,0,1,0],\n",
       "       [0,0,0,0,0,0,0,0,0,0,0,0,0,0,0,1],[1,0,1,0,1,0,0,0,0,1,1,1,0,1,0,1])"
      ]
     },
     "execution_count": 33,
     "metadata": {},
     "output_type": "execute_result"
    }
   ],
   "source": [
    "a_16x16:addrow(a_15x16,a_16_vector_a)"
   ]
  },
  {
   "cell_type": "code",
   "execution_count": 34,
   "metadata": {
    "collapsed": false
   },
   "outputs": [
    {
     "data": {
      "text/latex": [
       "$$\\left(-t^{25}-t^{11}\\right)^2\\,\\left(\\left(-t^{25}-t^{11}\\right)^2\n",
       " \\,\\left(\\left(-t^{25}-t^{11}\\right)^5\\,\\left(\\left(-t^{25}-t^{11}\n",
       " \\right)\\,\\left(\\left(-t^{25}-t^{11}\\right)\\,\\left(\\left(\\left(-t^{25\n",
       " }-t^{11}\\right)^2\\,\\left(-t^{25}-t^{11}+1\\right)+1\\right)\\,\\left(-t\n",
       " ^{25}-t^{11}\\right)^2+1\\right)-1\\right)+1\\right)-1\\right)-1\\right)-1$$"
      ],
      "text/plain": [
       "((-t^25)-t^11)^2*(((-t^25)-t^11)^2*(((-t^25)-t^11)^5\n",
       "                                   *(((-t^25)-t^11)\n",
       "                                    *(((-t^25)-t^11)\n",
       "                                     *((((-t^25)-t^11)^2*((-t^25)-t^11+1)+1)\n",
       "                                      *((-t^25)-t^11)^2\n",
       "                                      +1)\n",
       "                                     -1)\n",
       "                                    +1)\n",
       "                                   -1)\n",
       "                 -1)\n",
       " -1"
      ]
     },
     "execution_count": 34,
     "metadata": {},
     "output_type": "execute_result"
    }
   ],
   "source": [
    "phi:charpoly(a_16x16,t^25+t^11)"
   ]
  },
  {
   "cell_type": "code",
   "execution_count": 35,
   "metadata": {
    "collapsed": false
   },
   "outputs": [
    {
     "data": {
      "text/latex": [
       "$$t^{400}+16\\,t^{386}-t^{375}+120\\,t^{372}-15\\,t^{361}+560\\,t^{358}-\n",
       " 105\\,t^{347}+1820\\,t^{344}-455\\,t^{333}+4368\\,t^{330}-t^{325}-1365\\,\n",
       " t^{319}+8008\\,t^{316}-13\\,t^{311}-3003\\,t^{305}+11440\\,t^{302}-78\\,t\n",
       " ^{297}-5005\\,t^{291}+12870\\,t^{288}-286\\,t^{283}-6435\\,t^{277}-t^{\n",
       " 275}+11440\\,t^{274}-715\\,t^{269}-6435\\,t^{263}-11\\,t^{261}+8008\\,t^{\n",
       " 260}-1287\\,t^{255}-t^{250}-5005\\,t^{249}-55\\,t^{247}+4368\\,t^{246}-\n",
       " 1716\\,t^{241}-10\\,t^{236}-3003\\,t^{235}-165\\,t^{233}+1820\\,t^{232}-\n",
       " 1716\\,t^{227}-t^{225}-45\\,t^{222}-1365\\,t^{221}-330\\,t^{219}+560\\,t\n",
       " ^{218}-1287\\,t^{213}-9\\,t^{211}-120\\,t^{208}-455\\,t^{207}-462\\,t^{\n",
       " 205}+120\\,t^{204}-715\\,t^{199}-36\\,t^{197}-210\\,t^{194}-105\\,t^{193}\n",
       " -462\\,t^{191}+16\\,t^{190}-286\\,t^{185}-84\\,t^{183}-252\\,t^{180}-15\\,\n",
       " t^{179}-330\\,t^{177}+t^{176}-78\\,t^{171}-126\\,t^{169}-210\\,t^{166}-t\n",
       " ^{165}-165\\,t^{163}-13\\,t^{157}-126\\,t^{155}-120\\,t^{152}-55\\,t^{149\n",
       " }-t^{143}-84\\,t^{141}-45\\,t^{138}-11\\,t^{135}-36\\,t^{127}-10\\,t^{124\n",
       " }-t^{121}-9\\,t^{113}-t^{110}-t^{100}-t^{99}-4\\,t^{86}-6\\,t^{72}-4\\,t\n",
       " ^{58}-t^{50}-t^{44}-2\\,t^{36}-t^{22}-1$$"
      ],
      "text/plain": [
       "t^400+16*t^386-t^375+120*t^372-15*t^361+560*t^358-105*t^347+1820*t^344\n",
       "     -455*t^333+4368*t^330-t^325-1365*t^319+8008*t^316-13*t^311-3003*t^305\n",
       "     +11440*t^302-78*t^297-5005*t^291+12870*t^288-286*t^283-6435*t^277-t^275\n",
       "     +11440*t^274-715*t^269-6435*t^263-11*t^261+8008*t^260-1287*t^255-t^250\n",
       "     -5005*t^249-55*t^247+4368*t^246-1716*t^241-10*t^236-3003*t^235-165*t^233\n",
       "     +1820*t^232-1716*t^227-t^225-45*t^222-1365*t^221-330*t^219+560*t^218\n",
       "     -1287*t^213-9*t^211-120*t^208-455*t^207-462*t^205+120*t^204-715*t^199\n",
       "     -36*t^197-210*t^194-105*t^193-462*t^191+16*t^190-286*t^185-84*t^183\n",
       "     -252*t^180-15*t^179-330*t^177+t^176-78*t^171-126*t^169-210*t^166-t^165\n",
       "     -165*t^163-13*t^157-126*t^155-120*t^152-55*t^149-t^143-84*t^141-45*t^138\n",
       "     -11*t^135-36*t^127-10*t^124-t^121-9*t^113-t^110-t^100-t^99-4*t^86-6*t^72\n",
       "     -4*t^58-t^50-t^44-2*t^36-t^22-1"
      ]
     },
     "execution_count": 35,
     "metadata": {},
     "output_type": "execute_result"
    }
   ],
   "source": [
    "phi:expand(phi)"
   ]
  },
  {
   "cell_type": "code",
   "execution_count": 36,
   "metadata": {
    "collapsed": false
   },
   "outputs": [
    {
     "data": {
      "text/latex": [
       "$$\\mathbf{true}$$"
      ],
      "text/plain": [
       "true"
      ]
     },
     "execution_count": 36,
     "metadata": {},
     "output_type": "execute_result"
    }
   ],
   "source": [
    "gf_primitive_poly_p(phi,2)"
   ]
  },
  {
   "cell_type": "code",
   "execution_count": 37,
   "metadata": {
    "collapsed": false
   },
   "outputs": [
    {
     "data": {
      "text/latex": [
       "$$400$$"
      ],
      "text/plain": [
       "400"
      ]
     },
     "execution_count": 37,
     "metadata": {},
     "output_type": "execute_result"
    }
   ],
   "source": [
    "hipow(phi,t)"
   ]
  },
  {
   "cell_type": "code",
   "execution_count": 46,
   "metadata": {
    "collapsed": false
   },
   "outputs": [
    {
     "data": {
      "text/latex": [
       "$$\\pmatrix{1&0&1&0&1&1&1&1&0&1&0&1&0&0&0&1\\cr }$$"
      ],
      "text/plain": [
       "matrix([1,0,1,0,1,1,1,1,0,1,0,1,0,0,0,1])"
      ]
     },
     "execution_count": 46,
     "metadata": {},
     "output_type": "execute_result"
    }
   ],
   "source": [
    "x:matrix([1,0,1,0,1,1,1,1,0,1,0,1,0,0,0,1])"
   ]
  },
  {
   "cell_type": "code",
   "execution_count": 47,
   "metadata": {
    "collapsed": false
   },
   "outputs": [
    {
     "data": {
      "text/latex": [
       "$$\\pmatrix{1&0&1&0&1&0&0&0&0&1&1&1&0&1&0&1\\cr }$$"
      ],
      "text/plain": [
       "matrix([1,0,1,0,1,0,0,0,0,1,1,1,0,1,0,1])"
      ]
     },
     "execution_count": 47,
     "metadata": {},
     "output_type": "execute_result"
    }
   ],
   "source": [
    "a_16_vector_a_m:matrix(a_16_vector_a)"
   ]
  },
  {
   "cell_type": "code",
   "execution_count": 48,
   "metadata": {
    "collapsed": false
   },
   "outputs": [
    {
     "data": {
      "text/latex": [
       "$$\\pmatrix{1&1&1&1&1&1&1&1&1&1&0&1&1&1&0&1\\cr }$$"
      ],
      "text/plain": [
       "matrix([1,1,1,1,1,1,1,1,1,1,0,1,1,1,0,1])"
      ]
     },
     "execution_count": 48,
     "metadata": {},
     "output_type": "execute_result"
    }
   ],
   "source": [
    "mod(x . a_16x16,2)"
   ]
  },
  {
   "cell_type": "code",
   "execution_count": 60,
   "metadata": {
    "collapsed": false
   },
   "outputs": [
    {
     "data": {
      "text/latex": [
       "$$\\pmatrix{1&1&1&1&1&1&1&1&1&1&0&1&1&1&0&1\\cr }$$"
      ],
      "text/plain": [
       "matrix([1,1,1,1,1,1,1,1,1,1,0,1,1,1,0,1])"
      ]
     },
     "execution_count": 60,
     "metadata": {},
     "output_type": "execute_result"
    }
   ],
   "source": [
    "if (x[1][16] = 0) then (x . shiftright_16x16) else mod(x . shiftright_16x16 + a_16_vector_a_m,2)"
   ]
  },
  {
   "cell_type": "code",
   "execution_count": null,
   "metadata": {
    "collapsed": true
   },
   "outputs": [],
   "source": []
  }
 ],
 "metadata": {
  "kernelspec": {
   "display_name": "Maxima",
   "language": "maxima",
   "name": "maxima"
  },
  "language_info": {
   "codemirror_mode": "maxima",
   "mimetype": "text/x-maxima",
   "name": "maxima",
   "pygments_lexer": "maxima",
   "version": "circa-5.37"
  }
 },
 "nbformat": 4,
 "nbformat_minor": 0
}
