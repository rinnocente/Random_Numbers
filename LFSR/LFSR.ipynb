{
 "cells": [
  {
   "cell_type": "markdown",
   "metadata": {},
   "source": [
    "# LFSR Linear Feedback Shift Register"
   ]
  },
  {
   "cell_type": "markdown",
   "metadata": {},
   "source": [
    "An LFSR has maximal period if its associated/connection polynomial is primitive.\n",
    "\n",
    "In that case if $n$ is the length of the LFSR, the period will be $2^n-1$"
   ]
  },
  {
   "cell_type": "code",
   "execution_count": 1,
   "metadata": {
    "collapsed": false
   },
   "outputs": [
    {
     "data": {
      "text/latex": [
       "$$2$$"
      ],
      "text/plain": [
       "2"
      ]
     },
     "execution_count": 1,
     "metadata": {},
     "output_type": "execute_result"
    }
   ],
   "source": [
    "p:2"
   ]
  },
  {
   "cell_type": "code",
   "execution_count": 2,
   "metadata": {
    "collapsed": false
   },
   "outputs": [
    {
     "data": {
      "text/latex": [
       "$$4$$"
      ],
      "text/plain": [
       "4"
      ]
     },
     "execution_count": 2,
     "metadata": {},
     "output_type": "execute_result"
    }
   ],
   "source": [
    "n:4"
   ]
  },
  {
   "cell_type": "markdown",
   "metadata": {},
   "source": [
    "## A poly of degree $m$ over $\\mathbb{Z}_p$ is primitive if its order is  $p^m-1$\n",
    "\n",
    "Here $p = 2, n = 4$,  therefore $p^m -1 = 2^4 -1 = 15$"
   ]
  },
  {
   "cell_type": "code",
   "execution_count": 3,
   "metadata": {
    "collapsed": false
   },
   "outputs": [
    {
     "data": {
      "text/latex": [
       "$$x^4+x+1$$"
      ],
      "text/plain": [
       "x^4+x+1"
      ]
     },
     "execution_count": 3,
     "metadata": {},
     "output_type": "execute_result"
    }
   ],
   "source": [
    "f:gf_primitive_poly(p,n)"
   ]
  },
  {
   "cell_type": "code",
   "execution_count": 4,
   "metadata": {
    "collapsed": false
   },
   "outputs": [
    {
     "data": {
      "text/latex": [
       "$$2$$"
      ],
      "text/plain": [
       "2"
      ]
     },
     "execution_count": 4,
     "metadata": {},
     "output_type": "execute_result"
    }
   ],
   "source": [
    "modulus:2"
   ]
  },
  {
   "cell_type": "code",
   "execution_count": 5,
   "metadata": {
    "collapsed": false
   },
   "outputs": [
    {
     "data": {
      "text/latex": [
       "$$\\mbox{ Structure [GF-DATA] }$$"
      ],
      "text/plain": [
       "?Structure\\ \\[GF\\-DATA\\]"
      ]
     },
     "execution_count": 5,
     "metadata": {},
     "output_type": "execute_result"
    }
   ],
   "source": [
    "gf_set_data(p,n)"
   ]
  },
  {
   "cell_type": "code",
   "execution_count": 6,
   "metadata": {
    "collapsed": false
   },
   "outputs": [
    {
     "data": {
      "text/latex": [
       "$$15$$"
      ],
      "text/plain": [
       "15"
      ]
     },
     "execution_count": 6,
     "metadata": {},
     "output_type": "execute_result"
    }
   ],
   "source": [
    "gf_order(f(x))"
   ]
  },
  {
   "cell_type": "markdown",
   "metadata": {
    "collapsed": false
   },
   "source": [
    "### f(x) is a primitive polynomial so we can expect a period of $2^4-1=15$ from its LFSR"
   ]
  },
  {
   "cell_type": "code",
   "execution_count": 7,
   "metadata": {
    "collapsed": false
   },
   "outputs": [
    {
     "data": {
      "text/latex": [
       "$$2$$"
      ],
      "text/plain": [
       "2"
      ]
     },
     "execution_count": 7,
     "metadata": {},
     "output_type": "execute_result"
    }
   ],
   "source": [
    "modulus:2"
   ]
  },
  {
   "cell_type": "code",
   "execution_count": 8,
   "metadata": {
    "collapsed": false
   },
   "outputs": [
    {
     "data": {
      "text/latex": [
       "$$\\left[ 0 , 1 , 0 , 1 \\right] $$"
      ],
      "text/plain": [
       "[0,1,0,1]"
      ]
     },
     "execution_count": 8,
     "metadata": {},
     "output_type": "execute_result"
    }
   ],
   "source": [
    "seed:[0,1,0,1]"
   ]
  },
  {
   "cell_type": "markdown",
   "metadata": {},
   "source": [
    "### This matrix does exactly what a LFSR does: shifts right and replaces first bit with the xor of the taps"
   ]
  },
  {
   "cell_type": "code",
   "execution_count": 9,
   "metadata": {
    "collapsed": false
   },
   "outputs": [
    {
     "data": {
      "text/latex": [
       "$$\\pmatrix{1&1&0&0\\cr 0&0&1&0\\cr 0&0&0&1\\cr 1&0&0&0\\cr }$$"
      ],
      "text/plain": [
       "matrix([1,1,0,0],[0,0,1,0],[0,0,0,1],[1,0,0,0])"
      ]
     },
     "execution_count": 9,
     "metadata": {},
     "output_type": "execute_result"
    }
   ],
   "source": [
    "mlfsr:matrix([1,1,0,0],\n",
    "             [0,0,1,0],\n",
    "             [0,0,0,1],\n",
    "             [1,0,0,0])"
   ]
  },
  {
   "cell_type": "code",
   "execution_count": 10,
   "metadata": {
    "collapsed": false
   },
   "outputs": [
    {
     "data": {
      "text/latex": [
       "$$\\lambda^4-\\lambda^3-1$$"
      ],
      "text/plain": [
       "lambda^4-lambda^3-1"
      ]
     },
     "execution_count": 10,
     "metadata": {},
     "output_type": "execute_result"
    }
   ],
   "source": [
    "expand(charpoly(mlfsr,lambda))"
   ]
  },
  {
   "cell_type": "code",
   "execution_count": 11,
   "metadata": {
    "collapsed": false
   },
   "outputs": [
    {
     "data": {
      "text/latex": [
       "$$\\mathbf{true}$$"
      ],
      "text/plain": [
       "true"
      ]
     },
     "execution_count": 11,
     "metadata": {},
     "output_type": "execute_result"
    }
   ],
   "source": [
    "gf_primitive_poly_p(%,p)"
   ]
  },
  {
   "cell_type": "code",
   "execution_count": 14,
   "metadata": {
    "collapsed": false,
    "scrolled": true
   },
   "outputs": [
    {
     "name": "stdout",
     "output_type": "stream",
     "text": [
      "1 [ 0  1  1  0 ] \n",
      "2 [ 0  0  1  1 ] \n",
      "3 [ 1  0  0  1 ] \n",
      "4 [ 0  1  0  0 ] \n",
      "5 [ 0  0  1  0 ] \n",
      "6 [ 0  0  0  1 ] \n",
      "7 [ 1  0  0  0 ] \n",
      "8 [ 1  1  0  0 ] \n",
      "9 [ 1  1  1  0 ] \n",
      "10 [ 1  1  1  1 ] \n",
      "11 [ 0  1  1  1 ] \n",
      "12 [ 1  0  1  1 ] \n",
      "13 [ 0  1  0  1 ] \n",
      "14 [ 1  0  1  0 ] \n",
      "15 [ 1  1  0  1 ] \n"
     ]
    },
    {
     "data": {
      "text/latex": [
       "$$\\mathbf{done}$$"
      ],
      "text/plain": [
       "done"
      ]
     },
     "execution_count": 14,
     "metadata": {},
     "output_type": "execute_result"
    }
   ],
   "source": [
    "for i:1 thru p^n-1 do ( seed:seed . mlfsr, seed:mod(seed,2),print(i,seed) )"
   ]
  },
  {
   "cell_type": "code",
   "execution_count": 64,
   "metadata": {
    "collapsed": false
   },
   "outputs": [
    {
     "data": {
      "text/latex": [
       "$$3$$"
      ],
      "text/plain": [
       "3"
      ]
     },
     "execution_count": 64,
     "metadata": {},
     "output_type": "execute_result"
    }
   ],
   "source": [
    "p:3"
   ]
  },
  {
   "cell_type": "code",
   "execution_count": 64,
   "metadata": {
    "collapsed": false
   },
   "outputs": [
    {
     "data": {
      "text/latex": [
       "$$3$$"
      ],
      "text/plain": [
       "3"
      ]
     },
     "execution_count": 64,
     "metadata": {},
     "output_type": "execute_result"
    }
   ],
   "source": [
    "n:3"
   ]
  },
  {
   "cell_type": "code",
   "execution_count": 64,
   "metadata": {
    "collapsed": false
   },
   "outputs": [
    {
     "data": {
      "text/latex": [
       "$$x^3+2\\,x+1$$"
      ],
      "text/plain": [
       "x^3+2*x+1"
      ]
     },
     "execution_count": 64,
     "metadata": {},
     "output_type": "execute_result"
    }
   ],
   "source": [
    "gf_primitive_poly(p,n)"
   ]
  },
  {
   "cell_type": "code",
   "execution_count": 64,
   "metadata": {
    "collapsed": false
   },
   "outputs": [
    {
     "data": {
      "text/latex": [
       "$$\\left[ 0 , 2 , 1 \\right] $$"
      ],
      "text/plain": [
       "[0,2,1]"
      ]
     },
     "execution_count": 64,
     "metadata": {},
     "output_type": "execute_result"
    }
   ],
   "source": [
    "seed:[0,2,1]"
   ]
  },
  {
   "cell_type": "code",
   "execution_count": 64,
   "metadata": {
    "collapsed": false
   },
   "outputs": [
    {
     "data": {
      "text/latex": [
       "$$\\pmatrix{2&1&0\\cr 0&0&1\\cr 1&0&0\\cr }$$"
      ],
      "text/plain": [
       "matrix([2,1,0],[0,0,1],[1,0,0])"
      ]
     },
     "execution_count": 64,
     "metadata": {},
     "output_type": "execute_result"
    }
   ],
   "source": [
    "mlfsr:matrix([2,1,0],\n",
    "             [0,0,1],\n",
    "             [1,0,0])"
   ]
  },
  {
   "cell_type": "code",
   "execution_count": 64,
   "metadata": {
    "collapsed": false
   },
   "outputs": [
    {
     "data": {
      "text/latex": [
       "$$-\\lambda^3+2\\,\\lambda^2+1$$"
      ],
      "text/plain": [
       "(-lambda^3)+2*lambda^2+1"
      ]
     },
     "execution_count": 64,
     "metadata": {},
     "output_type": "execute_result"
    }
   ],
   "source": [
    "expand(charpoly(mlfsr,lambda))"
   ]
  },
  {
   "cell_type": "code",
   "execution_count": 64,
   "metadata": {
    "collapsed": false
   },
   "outputs": [
    {
     "data": {
      "text/latex": [
       "$$\\mathbf{false}$$"
      ],
      "text/plain": [
       "false"
      ]
     },
     "execution_count": 64,
     "metadata": {},
     "output_type": "execute_result"
    }
   ],
   "source": [
    "gf_primitive_poly_p(%,p)"
   ]
  },
  {
   "cell_type": "code",
   "execution_count": 64,
   "metadata": {
    "collapsed": false
   },
   "outputs": [
    {
     "name": "stdout",
     "output_type": "stream",
     "text": [
      "1 [ 1  0  2 ] \n",
      "2 [ 1  1  0 ] \n",
      "3 [ 2  1  1 ] \n",
      "4 [ 2  2  1 ] \n",
      "5 [ 2  2  2 ] \n",
      "6 [ 0  2  2 ] \n",
      "7 [ 2  0  2 ] \n",
      "8 [ 0  2  0 ] \n",
      "9 [ 0  0  2 ] \n",
      "10 [ 2  0  0 ] \n",
      "11 [ 1  2  0 ] \n",
      "12 [ 2  1  2 ] \n",
      "13 [ 0  2  1 ] \n",
      "14 [ 1  0  2 ] \n",
      "15 [ 1  1  0 ] \n",
      "16 [ 2  1  1 ] \n",
      "17 [ 2  2  1 ] \n",
      "18 [ 2  2  2 ] \n",
      "19 [ 0  2  2 ] \n",
      "20 [ 2  0  2 ] \n",
      "21 [ 0  2  0 ] \n",
      "22 [ 0  0  2 ] \n",
      "23 [ 2  0  0 ] \n",
      "24 [ 1  2  0 ] \n",
      "25 [ 2  1  2 ] \n",
      "26 [ 0  2  1 ] \n",
      "27 [ 1  0  2 ] \n"
     ]
    },
    {
     "data": {
      "text/latex": [
       "$$\\mathbf{done}$$"
      ],
      "text/plain": [
       "done"
      ]
     },
     "execution_count": 64,
     "metadata": {},
     "output_type": "execute_result"
    }
   ],
   "source": [
    "for i:1 thru p^n do ( seed:seed . mlfsr, seed:mod(seed,p),print(i,seed) )"
   ]
  },
  {
   "cell_type": "code",
   "execution_count": null,
   "metadata": {
    "collapsed": true
   },
   "outputs": [],
   "source": []
  }
 ],
 "metadata": {
  "kernelspec": {
   "display_name": "Maxima",
   "language": "maxima",
   "name": "maxima"
  },
  "language_info": {
   "codemirror_mode": "maxima",
   "mimetype": "text/x-maxima",
   "name": "maxima",
   "pygments_lexer": "maxima",
   "version": "circa-5.37"
  }
 },
 "nbformat": 4,
 "nbformat_minor": 0
}
