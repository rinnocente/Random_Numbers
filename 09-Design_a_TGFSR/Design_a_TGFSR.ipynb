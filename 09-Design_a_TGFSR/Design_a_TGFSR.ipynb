{
 "cells": [
  {
   "cell_type": "code",
   "execution_count": 1,
   "metadata": {},
   "outputs": [
    {
     "data": {
      "text/latex": [
       "$$\\pmatrix{1&0&0&0\\cr 0&1&0&0\\cr 0&0&1&0\\cr 0&0&0&1\\cr }$$"
      ],
      "text/plain": [
       "matrix([1,0,0,0],[0,1,0,0],[0,0,1,0],[0,0,0,1])"
      ]
     },
     "execution_count": 1,
     "metadata": {},
     "output_type": "execute_result"
    }
   ],
   "source": [
    "ident_4x4:ident(4);"
   ]
  },
  {
   "cell_type": "code",
   "execution_count": 2,
   "metadata": {},
   "outputs": [
    {
     "data": {
      "text/latex": [
       "$$\\pmatrix{0\\cr 0\\cr 0\\cr 0\\cr }$$"
      ],
      "text/plain": [
       "matrix([0],[0],[0],[0])"
      ]
     },
     "execution_count": 2,
     "metadata": {},
     "output_type": "execute_result"
    }
   ],
   "source": [
    "zero_4x1:transpose([0,0,0,0]);"
   ]
  },
  {
   "cell_type": "code",
   "execution_count": 3,
   "metadata": {},
   "outputs": [
    {
     "data": {
      "text/latex": [
       "$$\\left[ 1 , 1 , 0 , 1 , 1 \\right] $$"
      ],
      "text/plain": [
       "[1,1,0,1,1]"
      ]
     },
     "execution_count": 3,
     "metadata": {},
     "output_type": "execute_result"
    }
   ],
   "source": [
    "vec_a:[1,1,0,1,1];"
   ]
  },
  {
   "cell_type": "code",
   "execution_count": 4,
   "metadata": {
    "scrolled": true
   },
   "outputs": [
    {
     "data": {
      "text/latex": [
       "$$\\pmatrix{1&0&0&0\\cr 0&1&0&0\\cr 0&0&1&0\\cr 0&0&0&1\\cr }$$"
      ],
      "text/plain": [
       "matrix([1,0,0,0],[0,1,0,0],[0,0,1,0],[0,0,0,1])"
      ]
     },
     "execution_count": 4,
     "metadata": {},
     "output_type": "execute_result"
    }
   ],
   "source": [
    "m:ident_4x4;"
   ]
  },
  {
   "cell_type": "code",
   "execution_count": 5,
   "metadata": {},
   "outputs": [
    {
     "data": {
      "text/latex": [
       "$$\\pmatrix{0&1&0&0&0\\cr 0&0&1&0&0\\cr 0&0&0&1&0\\cr 0&0&0&0&1\\cr }$$"
      ],
      "text/plain": [
       "matrix([0,1,0,0,0],[0,0,1,0,0],[0,0,0,1,0],[0,0,0,0,1])"
      ]
     },
     "execution_count": 5,
     "metadata": {},
     "output_type": "execute_result"
    }
   ],
   "source": [
    "m:addcol(zero_4x1,m);"
   ]
  },
  {
   "cell_type": "code",
   "execution_count": 6,
   "metadata": {},
   "outputs": [
    {
     "data": {
      "text/latex": [
       "$$\\pmatrix{0&1&0&0&0\\cr 0&0&1&0&0\\cr 0&0&0&1&0\\cr 0&0&0&0&1\\cr 1&1&0&\n",
       " 1&1\\cr }$$"
      ],
      "text/plain": [
       "matrix([0,1,0,0,0],[0,0,1,0,0],[0,0,0,1,0],[0,0,0,0,1],[1,1,0,1,1])"
      ]
     },
     "execution_count": 6,
     "metadata": {},
     "output_type": "execute_result"
    }
   ],
   "source": [
    "m:addrow(m,vec_a);"
   ]
  },
  {
   "cell_type": "code",
   "execution_count": 9,
   "metadata": {},
   "outputs": [
    {
     "data": {
      "text/latex": [
       "$$x^5+x^2+1$$"
      ],
      "text/plain": [
       "x^5+x^2+1"
      ]
     },
     "execution_count": 9,
     "metadata": {},
     "output_type": "execute_result"
    }
   ],
   "source": [
    "gf_primitive_poly(2,5);"
   ]
  },
  {
   "cell_type": "code",
   "execution_count": 10,
   "metadata": {},
   "outputs": [
    {
     "data": {
      "text/latex": [
       "$$\\pmatrix{0&1&0&0&0\\cr 0&0&1&0&0\\cr 0&0&0&1&0\\cr 0&0&0&0&1\\cr 1&1&0&\n",
       " 1&1\\cr }$$"
      ],
      "text/plain": [
       "matrix([0,1,0,0,0],[0,0,1,0,0],[0,0,0,1,0],[0,0,0,0,1],[1,1,0,1,1])"
      ]
     },
     "execution_count": 10,
     "metadata": {},
     "output_type": "execute_result"
    }
   ],
   "source": [
    "m;"
   ]
  },
  {
   "cell_type": "code",
   "execution_count": 14,
   "metadata": {},
   "outputs": [
    {
     "data": {
      "text/latex": [
       "$$\\left(-t^5-t^3\\right)\\,\\left(\\left(\\left(-t^5-t^3\\right)\\,\\left(-t^\n",
       " 5-t^3+1\\right)-1\\right)\\,\\left(-t^5-t^3\\right)^2-1\\right)+1$$"
      ],
      "text/plain": [
       "((-t^5)-t^3)*((((-t^5)-t^3)*((-t^5)-t^3+1)-1)*((-t^5)-t^3)^2-1)+1"
      ]
     },
     "execution_count": 14,
     "metadata": {},
     "output_type": "execute_result"
    }
   ],
   "source": [
    "phi:charpoly(m,t^5+t^2);"
   ]
  },
  {
   "cell_type": "code",
   "execution_count": 15,
   "metadata": {},
   "outputs": [
    {
     "data": {
      "text/latex": [
       "$$-t^{25}-5\\,t^{23}-10\\,t^{21}+t^{20}-10\\,t^{19}+4\\,t^{18}-5\\,t^{17}+\n",
       " 6\\,t^{16}+4\\,t^{14}+3\\,t^{13}+t^{12}+3\\,t^{11}+t^9+t^5+t^3+1$$"
      ],
      "text/plain": [
       "(-t^25)-5*t^23-10*t^21+t^20-10*t^19+4*t^18-5*t^17+6*t^16+4*t^14+3*t^13+t^12\n",
       "       +3*t^11+t^9+t^5+t^3+1"
      ]
     },
     "execution_count": 15,
     "metadata": {},
     "output_type": "execute_result"
    }
   ],
   "source": [
    "phi2:expand(phi);"
   ]
  },
  {
   "cell_type": "code",
   "execution_count": 16,
   "metadata": {},
   "outputs": [
    {
     "data": {
      "text/latex": [
       "$$\\mathbf{true}$$"
      ],
      "text/plain": [
       "true"
      ]
     },
     "execution_count": 16,
     "metadata": {},
     "output_type": "execute_result"
    }
   ],
   "source": [
    "gf_primitive_poly_p(phi,2);"
   ]
  },
  {
   "cell_type": "code",
   "execution_count": 17,
   "metadata": {},
   "outputs": [
    {
     "data": {
      "text/latex": [
       "$$\\pmatrix{1&0&0&0&0\\cr 0&1&0&0&0\\cr 0&0&1&0&0\\cr 0&0&0&1&0\\cr 0&0&0&\n",
       " 0&1\\cr }$$"
      ],
      "text/plain": [
       "matrix([1,0,0,0,0],[0,1,0,0,0],[0,0,1,0,0],[0,0,0,1,0],[0,0,0,0,1])"
      ]
     },
     "execution_count": 17,
     "metadata": {},
     "output_type": "execute_result"
    }
   ],
   "source": [
    "ident_5x5:ident(5);"
   ]
  },
  {
   "cell_type": "code",
   "execution_count": 18,
   "metadata": {},
   "outputs": [
    {
     "name": "stdout",
     "output_type": "stream",
     "text": [
      "Wow  31 \n",
      "Wow  62 \n",
      "Wow  93 \n"
     ]
    },
    {
     "data": {
      "text/latex": [
       "$$\\mathbf{done}$$"
      ],
      "text/plain": [
       "done"
      ]
     },
     "execution_count": 18,
     "metadata": {},
     "output_type": "execute_result"
    }
   ],
   "source": [
    "for i:1 thru 100 do if mod(m^^i,2) = ident_5x5 then print(\"Wow \",i);"
   ]
  },
  {
   "cell_type": "code",
   "execution_count": null,
   "metadata": {
    "collapsed": true
   },
   "outputs": [],
   "source": []
  },
  {
   "cell_type": "code",
   "execution_count": null,
   "metadata": {
    "collapsed": true
   },
   "outputs": [],
   "source": []
  }
 ],
 "metadata": {
  "kernelspec": {
   "display_name": "Maxima",
   "language": "maxima",
   "name": "maxima"
  },
  "language_info": {
   "codemirror_mode": "maxima",
   "mimetype": "text/x-maxima",
   "name": "maxima",
   "pygments_lexer": "maxima",
   "version": "circa-5.37"
  }
 },
 "nbformat": 4,
 "nbformat_minor": 2
}
