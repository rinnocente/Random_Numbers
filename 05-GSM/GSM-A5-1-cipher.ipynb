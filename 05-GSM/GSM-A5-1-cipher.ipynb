{
 "cells": [
  {
   "cell_type": "markdown",
   "metadata": {},
   "source": [
    " # GSM A5/1 cipher \n",
    " \n",
    " ## 3 different LFSR are initialized with 64 bits\n",
    " \n",
    " and their output is xored to produce 114 bits at a time\n",
    " \n",
    " these bits are xored with 114 bits of the data stream and sent every 4.615 msec\n",
    " \n",
    " ![title](https://upload.wikimedia.org/wikipedia/commons/8/8d/A5-1.png)\n",
    " *pic from Matt Crypto - Wikipedia*\n",
    "   "
   ]
  },
  {
   "cell_type": "code",
   "execution_count": 1,
   "metadata": {
    "collapsed": false
   },
   "outputs": [
    {
     "data": {
      "text/latex": [
       "$$x^{19}+x^{18}+x^{17}+x^{14}+1$$"
      ],
      "text/plain": [
       "x^19+x^18+x^17+x^14+1"
      ]
     },
     "execution_count": 1,
     "metadata": {},
     "output_type": "execute_result"
    }
   ],
   "source": [
    "lfsr1:x^19+x^18+x^17+x^14+1"
   ]
  },
  {
   "cell_type": "code",
   "execution_count": 2,
   "metadata": {
    "collapsed": false
   },
   "outputs": [
    {
     "data": {
      "text/latex": [
       "$$\\mathbf{true}$$"
      ],
      "text/plain": [
       "true"
      ]
     },
     "execution_count": 2,
     "metadata": {},
     "output_type": "execute_result"
    }
   ],
   "source": [
    "gf_primitive_poly_p(lfsr1,2)"
   ]
  },
  {
   "cell_type": "code",
   "execution_count": 3,
   "metadata": {
    "collapsed": false
   },
   "outputs": [
    {
     "data": {
      "text/latex": [
       "$$x^{22}+x^{21}+1$$"
      ],
      "text/plain": [
       "x^22+x^21+1"
      ]
     },
     "execution_count": 3,
     "metadata": {},
     "output_type": "execute_result"
    }
   ],
   "source": [
    "lfsr2:x^22+x^21+1"
   ]
  },
  {
   "cell_type": "code",
   "execution_count": 4,
   "metadata": {
    "collapsed": false
   },
   "outputs": [
    {
     "data": {
      "text/latex": [
       "$$\\mathbf{true}$$"
      ],
      "text/plain": [
       "true"
      ]
     },
     "execution_count": 4,
     "metadata": {},
     "output_type": "execute_result"
    }
   ],
   "source": [
    "gf_primitive_poly_p(lfsr2,2)"
   ]
  },
  {
   "cell_type": "code",
   "execution_count": 5,
   "metadata": {
    "collapsed": false
   },
   "outputs": [
    {
     "data": {
      "text/latex": [
       "$$x^{23}+x^{22}+x^{21}+x^8+1$$"
      ],
      "text/plain": [
       "x^23+x^22+x^21+x^8+1"
      ]
     },
     "execution_count": 5,
     "metadata": {},
     "output_type": "execute_result"
    }
   ],
   "source": [
    "lfsr3:x^23+x^22+x^21+x^8+1"
   ]
  },
  {
   "cell_type": "code",
   "execution_count": 6,
   "metadata": {
    "collapsed": false
   },
   "outputs": [
    {
     "data": {
      "text/latex": [
       "$$\\mathbf{true}$$"
      ],
      "text/plain": [
       "true"
      ]
     },
     "execution_count": 6,
     "metadata": {},
     "output_type": "execute_result"
    }
   ],
   "source": [
    "gf_primitive_poly_p(lfsr3,2)"
   ]
  },
  {
   "cell_type": "code",
   "execution_count": null,
   "metadata": {
    "collapsed": true
   },
   "outputs": [],
   "source": []
  }
 ],
 "metadata": {
  "kernelspec": {
   "display_name": "Maxima",
   "language": "maxima",
   "name": "maxima"
  },
  "language_info": {
   "codemirror_mode": "maxima",
   "mimetype": "text/x-maxima",
   "name": "maxima",
   "pygments_lexer": "maxima",
   "version": "circa-5.37"
  }
 },
 "nbformat": 4,
 "nbformat_minor": 0
}
