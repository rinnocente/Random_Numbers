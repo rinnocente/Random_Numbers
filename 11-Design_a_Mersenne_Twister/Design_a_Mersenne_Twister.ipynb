{
 "cells": [
  {
   "cell_type": "markdown",
   "metadata": {},
   "source": [
    "# Design an MT"
   ]
  },
  {
   "cell_type": "code",
   "execution_count": 1,
   "metadata": {},
   "outputs": [
    {
     "data": {
      "text/latex": [
       "$$\n",
       " \\mbox{ /usr/local/share/maxima/5.41.0/share/contrib/bitwise/bitwise.lisp }$$"
      ],
      "text/plain": [
       "\"/usr/local/share/maxima/5.41.0/share/contrib/bitwise/bitwise.lisp\""
      ]
     },
     "execution_count": 1,
     "metadata": {},
     "output_type": "execute_result"
    }
   ],
   "source": [
    "load(\"bitwise\");"
   ]
  },
  {
   "cell_type": "code",
   "execution_count": 2,
   "metadata": {},
   "outputs": [
    {
     "data": {
      "text/latex": [
       "$$\\pmatrix{27&17&21&5&30&14&16\\cr }$$"
      ],
      "text/plain": [
       "matrix([27,17,21,5,30,14,16])"
      ]
     },
     "execution_count": 2,
     "metadata": {},
     "output_type": "execute_result"
    }
   ],
   "source": [
    "seed:matrix([27,17,21,5,30,14,16]);"
   ]
  },
  {
   "cell_type": "code",
   "execution_count": 4,
   "metadata": {},
   "outputs": [
    {
     "data": {
      "text/latex": [
       "$$7$$"
      ],
      "text/plain": [
       "7"
      ]
     },
     "execution_count": 4,
     "metadata": {},
     "output_type": "execute_result"
    }
   ],
   "source": [
    "n:matrix_size(seed)[2];"
   ]
  },
  {
   "cell_type": "code",
   "execution_count": 5,
   "metadata": {},
   "outputs": [
    {
     "data": {
      "text/latex": [
       "$$\\pmatrix{1&0&0&0\\cr 0&1&0&0\\cr 0&0&1&0\\cr 0&0&0&1\\cr }$$"
      ],
      "text/plain": [
       "matrix([1,0,0,0],[0,1,0,0],[0,0,1,0],[0,0,0,1])"
      ]
     },
     "execution_count": 5,
     "metadata": {},
     "output_type": "execute_result"
    }
   ],
   "source": [
    "ident_4x4:ident(4);"
   ]
  },
  {
   "cell_type": "code",
   "execution_count": 6,
   "metadata": {},
   "outputs": [
    {
     "data": {
      "text/latex": [
       "$$\\pmatrix{0\\cr 0\\cr 0\\cr 0\\cr }$$"
      ],
      "text/plain": [
       "matrix([0],[0],[0],[0])"
      ]
     },
     "execution_count": 6,
     "metadata": {},
     "output_type": "execute_result"
    }
   ],
   "source": [
    "zero_4x1:transpose([0,0,0,0]);"
   ]
  },
  {
   "cell_type": "code",
   "execution_count": 7,
   "metadata": {},
   "outputs": [
    {
     "data": {
      "text/latex": [
       "$$\\pmatrix{1&0&0&0\\cr 0&1&0&0\\cr 0&0&1&0\\cr 0&0&0&1\\cr }$$"
      ],
      "text/plain": [
       "matrix([1,0,0,0],[0,1,0,0],[0,0,1,0],[0,0,0,1])"
      ]
     },
     "execution_count": 7,
     "metadata": {},
     "output_type": "execute_result"
    }
   ],
   "source": [
    "matrix_A:ident_4x4;"
   ]
  },
  {
   "cell_type": "code",
   "execution_count": 8,
   "metadata": {},
   "outputs": [
    {
     "data": {
      "text/latex": [
       "$$\\pmatrix{0&1&0&0&0\\cr 0&0&1&0&0\\cr 0&0&0&1&0\\cr 0&0&0&0&1\\cr }$$"
      ],
      "text/plain": [
       "matrix([0,1,0,0,0],[0,0,1,0,0],[0,0,0,1,0],[0,0,0,0,1])"
      ]
     },
     "execution_count": 8,
     "metadata": {},
     "output_type": "execute_result"
    }
   ],
   "source": [
    "matrix_A:addcol(zero_4x1,matrix_A)$"
   ]
  },
  {
   "cell_type": "code",
   "execution_count": 9,
   "metadata": {},
   "outputs": [
    {
     "data": {
      "text/latex": [
       "$$\\left[ 1 , 0 , 1 , 1 , 0 \\right] $$"
      ],
      "text/plain": [
       "[1,0,1,1,0]"
      ]
     },
     "execution_count": 9,
     "metadata": {},
     "output_type": "execute_result"
    }
   ],
   "source": [
    "vec_a:[1,0,1,1,0]$      "
   ]
  },
  {
   "cell_type": "code",
   "execution_count": 10,
   "metadata": {},
   "outputs": [
    {
     "data": {
      "text/latex": [
       "$$\\pmatrix{0&1&0&0&0\\cr 0&0&1&0&0\\cr 0&0&0&1&0\\cr 0&0&0&0&1\\cr 1&0&1&\n",
       " 1&0\\cr }$$"
      ],
      "text/plain": [
       "matrix([0,1,0,0,0],[0,0,1,0,0],[0,0,0,1,0],[0,0,0,0,1],[1,0,1,1,0])"
      ]
     },
     "execution_count": 10,
     "metadata": {},
     "output_type": "execute_result"
    }
   ],
   "source": [
    "matrix_A:addrow(matrix_A,vec_a)$"
   ]
  },
  {
   "cell_type": "code",
   "execution_count": 11,
   "metadata": {},
   "outputs": [
    {
     "data": {
      "text/latex": [
       "$$\\left[ 1 , 0 , 1 , 1 , 0 \\right] $$"
      ],
      "text/plain": [
       "[1,0,1,1,0]"
      ]
     },
     "execution_count": 11,
     "metadata": {},
     "output_type": "execute_result"
    }
   ],
   "source": [
    "matrix_A[5]:vec_a;"
   ]
  },
  {
   "cell_type": "code",
   "execution_count": 12,
   "metadata": {},
   "outputs": [
    {
     "data": {
      "text/latex": [
       "$$2$$"
      ],
      "text/plain": [
       "2"
      ]
     },
     "execution_count": 12,
     "metadata": {},
     "output_type": "execute_result"
    }
   ],
   "source": [
    "m:2;"
   ]
  },
  {
   "cell_type": "code",
   "execution_count": 17,
   "metadata": {},
   "outputs": [
    {
     "data": {
      "text/latex": [
       "$$16$$"
      ],
      "text/plain": [
       "16"
      ]
     },
     "execution_count": 17,
     "metadata": {},
     "output_type": "execute_result"
    }
   ],
   "source": [
    "bit_and(seed[1][m],16);"
   ]
  },
  {
   "cell_type": "code",
   "execution_count": 18,
   "metadata": {},
   "outputs": [
    {
     "data": {
      "text/latex": [
       "$$1$$"
      ],
      "text/plain": [
       "1"
      ]
     },
     "execution_count": 18,
     "metadata": {},
     "output_type": "execute_result"
    }
   ],
   "source": [
    "bit_rsh(%,4);"
   ]
  },
  {
   "cell_type": "code",
   "execution_count": 19,
   "metadata": {},
   "outputs": [
    {
     "data": {
      "text/latex": [
       "$$\\left[ 1 , 0 , 0 , 0 , 1 \\right] $$"
      ],
      "text/plain": [
       "[1,0,0,0,1]"
      ]
     },
     "execution_count": 19,
     "metadata": {},
     "output_type": "execute_result"
    }
   ],
   "source": [
    "bottom_tap:[ bit_rsh(bit_and(seed[1][m],16),4), \n",
    "             bit_rsh(bit_and(seed[1][m],8),3), \n",
    "             bit_rsh(bit_and(seed[1][m],4),2),  \n",
    "             bit_rsh(bit_and(seed[1][m],2),1),\n",
    "                     bit_and(seed[1][m],1)];"
   ]
  },
  {
   "cell_type": "code",
   "execution_count": 20,
   "metadata": {},
   "outputs": [
    {
     "data": {
      "text/latex": [
       "$$\\left[ 1 , 1 , 1 , 1 , 0 \\right] $$"
      ],
      "text/plain": [
       "[1,1,1,1,0]"
      ]
     },
     "execution_count": 20,
     "metadata": {},
     "output_type": "execute_result"
    }
   ],
   "source": [
    "top_tap:[   bit_rsh(bit_and(seed[1][n],16),4),\n",
    "            bit_rsh(bit_and(seed[1][n-1],8),3), \n",
    "            bit_rsh(bit_and(seed[1][n-1],4),2),  \n",
    "            bit_rsh(bit_and(seed[1][n-1],2),1),\n",
    "                    bit_and(seed[1][n-1],1)];\n",
    "                        "
   ]
  },
  {
   "cell_type": "code",
   "execution_count": 21,
   "metadata": {},
   "outputs": [
    {
     "data": {
      "text/latex": [
       "$$\\pmatrix{1&0&0&0&1\\cr }$$"
      ],
      "text/plain": [
       "matrix([1,0,0,0,1])"
      ]
     },
     "execution_count": 21,
     "metadata": {},
     "output_type": "execute_result"
    }
   ],
   "source": [
    "bottom_tap:matrix(bottom_tap);"
   ]
  },
  {
   "cell_type": "code",
   "execution_count": 22,
   "metadata": {},
   "outputs": [
    {
     "data": {
      "text/latex": [
       "$$\\pmatrix{1&1&1&1&0\\cr }$$"
      ],
      "text/plain": [
       "matrix([1,1,1,1,0])"
      ]
     },
     "execution_count": 22,
     "metadata": {},
     "output_type": "execute_result"
    }
   ],
   "source": [
    "new_bits:mod(bottom_tap + top_tap  . matrix_A,2);"
   ]
  },
  {
   "cell_type": "code",
   "execution_count": 23,
   "metadata": {},
   "outputs": [
    {
     "data": {
      "text/latex": [
       "$$15$$"
      ],
      "text/plain": [
       "15"
      ]
     },
     "execution_count": 23,
     "metadata": {},
     "output_type": "execute_result"
    }
   ],
   "source": [
    "new_numb:mod(new_bits[1][5]*16+\n",
    "             new_bits[1][4]*8+\n",
    "            new_bits[1][3]*4+\n",
    "            new_bits[1][2]*2+\n",
    "            new_bits[1][1],32);\n",
    "                     "
   ]
  },
  {
   "cell_type": "code",
   "execution_count": 24,
   "metadata": {},
   "outputs": [
    {
     "data": {
      "text/latex": [
       "$$\\pmatrix{0&1&0&0&0&0&0\\cr 0&0&1&0&0&0&0\\cr 0&0&0&1&0&0&0\\cr 0&0&0&0\n",
       " &1&0&0\\cr 0&0&0&0&0&1&0\\cr 0&0&0&0&0&0&1\\cr 0&0&0&0&0&0&0\\cr }$$"
      ],
      "text/plain": [
       "matrix([0,1,0,0,0,0,0],[0,0,1,0,0,0,0],[0,0,0,1,0,0,0],[0,0,0,0,1,0,0],\n",
       "       [0,0,0,0,0,1,0],[0,0,0,0,0,0,1],[0,0,0,0,0,0,0])"
      ]
     },
     "execution_count": 24,
     "metadata": {},
     "output_type": "execute_result"
    }
   ],
   "source": [
    "shr7:matrix([0,1,0,0,0,0,0],\n",
    "             [0,0,1,0,0,0,0],\n",
    "             [0,0,0,1,0,0,0],\n",
    "             [0,0,0,0,1,0,0],\n",
    "             [0,0,0,0,0,1,0],\n",
    "             [0,0,0,0,0,0,1],\n",
    "            [0,0,0,0,0,0,0]);\n",
    "                        "
   ]
  },
  {
   "cell_type": "code",
   "execution_count": 25,
   "metadata": {},
   "outputs": [
    {
     "data": {
      "text/latex": [
       "$$\\pmatrix{0&27&17&21&5&30&14\\cr }$$"
      ],
      "text/plain": [
       "matrix([0,27,17,21,5,30,14])"
      ]
     },
     "execution_count": 25,
     "metadata": {},
     "output_type": "execute_result"
    }
   ],
   "source": [
    "seed:seed . shr7;"
   ]
  },
  {
   "cell_type": "code",
   "execution_count": 26,
   "metadata": {},
   "outputs": [
    {
     "data": {
      "text/latex": [
       "$$15$$"
      ],
      "text/plain": [
       "15"
      ]
     },
     "execution_count": 26,
     "metadata": {},
     "output_type": "execute_result"
    }
   ],
   "source": [
    "seed[1][1]:new_numb;"
   ]
  },
  {
   "cell_type": "code",
   "execution_count": 27,
   "metadata": {},
   "outputs": [
    {
     "name": "stdout",
     "output_type": "stream",
     "text": [
      "01111"
     ]
    },
    {
     "data": {
      "text/latex": [
       "$$\\mathbf{false}$$"
      ],
      "text/plain": [
       "false"
      ]
     },
     "execution_count": 27,
     "metadata": {},
     "output_type": "execute_result"
    }
   ],
   "source": [
    "printf(true,\"~5,'0b\",new_numb);"
   ]
  },
  {
   "cell_type": "code",
   "execution_count": null,
   "metadata": {},
   "outputs": [],
   "source": []
  }
 ],
 "metadata": {
  "kernelspec": {
   "display_name": "Maxima",
   "language": "maxima",
   "name": "maxima"
  },
  "language_info": {
   "codemirror_mode": "maxima",
   "mimetype": "text/x-maxima",
   "name": "maxima",
   "pygments_lexer": "maxima",
   "version": "circa-5.37"
  }
 },
 "nbformat": 4,
 "nbformat_minor": 2
}
