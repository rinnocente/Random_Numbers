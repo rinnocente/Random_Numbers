{
 "cells": [
  {
   "cell_type": "markdown",
   "metadata": {},
   "source": [
    "# GFSR - Lewis , Payne 1973"
   ]
  },
  {
   "cell_type": "markdown",
   "metadata": {},
   "source": [
    "Uses the same  LFSR across all bits of the words : if the degree of the LFSR is $n$ then\n",
    "the period is $2^n-1$.\n",
    "\n",
    "The initialization is problematic and slow especially in the original rng.\n",
    "\n",
    "If we see the state as made by $n$ vertical words then fill each row of bits one after the other\n",
    "with the LFSR skipping some outcomes after any row :\n",
    "\n",
    "\n",
    "$[{\\bf w_0}, {\\bf w_1}, \\ldots] = \\begin{bmatrix} w_{0,0} & \\ldots & w_{0,n-1} \\\\ w_{1,0} & \\ldots & w_{1,n-1}\\\\ w_{2,0} & \\ldots & w_{2,n-1}\\end{bmatrix}$"
   ]
  },
  {
   "cell_type": "code",
   "execution_count": 2,
   "metadata": {
    "collapsed": false
   },
   "outputs": [
    {
     "data": {
      "text/latex": [
       "$$2$$"
      ],
      "text/plain": [
       "2"
      ]
     },
     "execution_count": 2,
     "metadata": {},
     "output_type": "execute_result"
    }
   ],
   "source": [
    "p:2 "
   ]
  },
  {
   "cell_type": "code",
   "execution_count": 3,
   "metadata": {
    "collapsed": false
   },
   "outputs": [
    {
     "data": {
      "text/latex": [
       "$$3$$"
      ],
      "text/plain": [
       "3"
      ]
     },
     "execution_count": 3,
     "metadata": {},
     "output_type": "execute_result"
    }
   ],
   "source": [
    "n:3"
   ]
  },
  {
   "cell_type": "code",
   "execution_count": 4,
   "metadata": {
    "collapsed": false
   },
   "outputs": [
    {
     "data": {
      "text/latex": [
       "$$x^3+x+1$$"
      ],
      "text/plain": [
       "x^3+x+1"
      ]
     },
     "execution_count": 4,
     "metadata": {},
     "output_type": "execute_result"
    }
   ],
   "source": [
    "gf_primitive_poly(p,3)"
   ]
  },
  {
   "cell_type": "markdown",
   "metadata": {},
   "source": [
    "## Therefore a $LFSR(3,1+x+x^3)$ will have maximal period $p^n - 1 = 2^3 -1 = 8 -1 = 7$"
   ]
  },
  {
   "cell_type": "code",
   "execution_count": 5,
   "metadata": {
    "collapsed": false
   },
   "outputs": [
    {
     "data": {
      "text/latex": [
       "$$\\left[ 1 , 0 , 1 \\right] $$"
      ],
      "text/plain": [
       "[1,0,1]"
      ]
     },
     "execution_count": 5,
     "metadata": {},
     "output_type": "execute_result"
    }
   ],
   "source": [
    "seed:[1,0,1] "
   ]
  },
  {
   "cell_type": "code",
   "execution_count": 6,
   "metadata": {
    "collapsed": false
   },
   "outputs": [
    {
     "data": {
      "text/latex": [
       "$$\\pmatrix{1&1&0\\cr 0&0&1\\cr 1&0&0\\cr }$$"
      ],
      "text/plain": [
       "matrix([1,1,0],[0,0,1],[1,0,0])"
      ]
     },
     "execution_count": 6,
     "metadata": {},
     "output_type": "execute_result"
    }
   ],
   "source": [
    "lfsr:matrix([1,1,0],\n",
    "            [0,0,1],\n",
    "            [1,0,0])"
   ]
  },
  {
   "cell_type": "code",
   "execution_count": 7,
   "metadata": {
    "collapsed": false
   },
   "outputs": [
    {
     "name": "stdout",
     "output_type": "stream",
     "text": [
      "1 [ 0  1  0 ] \n",
      "2 [ 0  0  1 ] \n",
      "3 [ 1  0  0 ] \n",
      "4 [ 1  1  0 ] \n",
      "5 [ 1  1  1 ] \n",
      "6 [ 0  1  1 ] \n",
      "7 [ 1  0  1 ] \n",
      "8 [ 0  1  0 ] \n"
     ]
    },
    {
     "data": {
      "text/latex": [
       "$$\\mathbf{done}$$"
      ],
      "text/plain": [
       "done"
      ]
     },
     "execution_count": 7,
     "metadata": {},
     "output_type": "execute_result"
    }
   ],
   "source": [
    "for i:1 thru p^n  do ( seed:mod(seed . lfsr,p), print(i,seed))"
   ]
  },
  {
   "cell_type": "markdown",
   "metadata": {},
   "source": [
    "## Let's now build a GFSR with the same polynomial using numbers $0\\le x \\le m:2^{3}$"
   ]
  },
  {
   "cell_type": "code",
   "execution_count": 17,
   "metadata": {
    "collapsed": false
   },
   "outputs": [
    {
     "data": {
      "text/latex": [
       "$$8$$"
      ],
      "text/plain": [
       "8"
      ]
     },
     "execution_count": 17,
     "metadata": {},
     "output_type": "execute_result"
    }
   ],
   "source": [
    "m:2^3"
   ]
  },
  {
   "cell_type": "code",
   "execution_count": 20,
   "metadata": {
    "collapsed": false
   },
   "outputs": [
    {
     "data": {
      "text/latex": [
       "$$\\pmatrix{7&3&2\\cr }$$"
      ],
      "text/plain": [
       "matrix([7,3,2])"
      ]
     },
     "execution_count": 20,
     "metadata": {},
     "output_type": "execute_result"
    }
   ],
   "source": [
    "mseed:matrix([7,3,2])"
   ]
  },
  {
   "cell_type": "code",
   "execution_count": 21,
   "metadata": {
    "collapsed": false
   },
   "outputs": [
    {
     "name": "stdout",
     "output_type": "stream",
     "text": [
      "1 [ 1  7  3 ] \n",
      "2 [ 4  1  7 ] \n",
      "3 [ 3  4  1 ] \n",
      "4 [ 4  3  4 ] \n",
      "5 [ 0  4  3 ] \n",
      "6 [ 3  0  4 ] \n",
      "7 [ 7  3  0 ] \n",
      "8 [ 7  7  3 ] \n",
      "9 [ 2  7  7 ] \n",
      "10 [ 1  2  7 ] \n",
      "11 [ 0  1  2 ] \n",
      "12 [ 2  0  1 ] \n",
      "13 [ 3  2  0 ] \n",
      "14 [ 3  3  2 ] \n",
      "15 [ 5  3  3 ] \n",
      "16 [ 0  5  3 ] \n",
      "17 [ 3  0  5 ] \n",
      "18 [ 0  3  0 ] \n",
      "19 [ 0  0  3 ] \n",
      "20 [ 3  0  0 ] \n",
      "21 [ 3  3  0 ] \n",
      "22 [ 3  3  3 ] \n",
      "23 [ 6  3  3 ] \n",
      "24 [ 1  6  3 ] \n",
      "25 [ 4  1  6 ] \n",
      "26 [ 2  4  1 ] \n",
      "27 [ 3  2  4 ] \n",
      "28 [ 7  3  2 ] \n",
      "29 [ 1  7  3 ] \n",
      "30 [ 4  1  7 ] \n",
      "31 [ 3  4  1 ] \n",
      "32 [ 4  3  4 ] \n",
      "33 [ 0  4  3 ] \n",
      "34 [ 3  0  4 ] \n",
      "35 [ 7  3  0 ] \n",
      "36 [ 7  7  3 ] \n",
      "37 [ 2  7  7 ] \n",
      "38 [ 1  2  7 ] \n",
      "39 [ 0  1  2 ] \n",
      "40 [ 2  0  1 ] \n",
      "41 [ 3  2  0 ] \n",
      "42 [ 3  3  2 ] \n",
      "43 [ 5  3  3 ] \n",
      "44 [ 0  5  3 ] \n",
      "45 [ 3  0  5 ] \n",
      "46 [ 0  3  0 ] \n",
      "47 [ 0  0  3 ] \n",
      "48 [ 3  0  0 ] \n",
      "49 [ 3  3  0 ] \n",
      "50 [ 3  3  3 ] \n",
      "51 [ 6  3  3 ] \n",
      "52 [ 1  6  3 ] \n",
      "53 [ 4  1  6 ] \n",
      "54 [ 2  4  1 ] \n",
      "55 [ 3  2  4 ] \n",
      "56 [ 7  3  2 ] \n",
      "57 [ 1  7  3 ] \n",
      "58 [ 4  1  7 ] \n",
      "59 [ 3  4  1 ] \n",
      "60 [ 4  3  4 ] \n",
      "61 [ 0  4  3 ] \n",
      "62 [ 3  0  4 ] \n",
      "63 [ 7  3  0 ] \n",
      "64 [ 7  7  3 ] \n",
      "65 [ 2  7  7 ] \n",
      "66 [ 1  2  7 ] \n",
      "67 [ 0  1  2 ] \n",
      "68 [ 2  0  1 ] \n",
      "69 [ 3  2  0 ] \n",
      "70 [ 3  3  2 ] \n",
      "71 [ 5  3  3 ] \n",
      "72 [ 0  5  3 ] \n",
      "73 [ 3  0  5 ] \n",
      "74 [ 0  3  0 ] \n",
      "75 [ 0  0  3 ] \n",
      "76 [ 3  0  0 ] \n",
      "77 [ 3  3  0 ] \n",
      "78 [ 3  3  3 ] \n",
      "79 [ 6  3  3 ] \n",
      "80 [ 1  6  3 ] \n",
      "81 [ 4  1  6 ] \n",
      "82 [ 2  4  1 ] \n",
      "83 [ 3  2  4 ] \n",
      "84 [ 7  3  2 ] \n",
      "85 [ 1  7  3 ] \n",
      "86 [ 4  1  7 ] \n",
      "87 [ 3  4  1 ] \n",
      "88 [ 4  3  4 ] \n",
      "89 [ 0  4  3 ] \n",
      "90 [ 3  0  4 ] \n",
      "91 [ 7  3  0 ] \n",
      "92 [ 7  7  3 ] \n",
      "93 [ 2  7  7 ] \n",
      "94 [ 1  2  7 ] \n",
      "95 [ 0  1  2 ] \n",
      "96 [ 2  0  1 ] \n",
      "97 [ 3  2  0 ] \n",
      "98 [ 3  3  2 ] \n",
      "99 [ 5  3  3 ] \n",
      "100 [ 0  5  3 ] \n",
      "101 [ 3  0  5 ] \n",
      "102 [ 0  3  0 ] \n",
      "103 [ 0  0  3 ] \n",
      "104 [ 3  0  0 ] \n",
      "105 [ 3  3  0 ] \n",
      "106 [ 3  3  3 ] \n",
      "107 [ 6  3  3 ] \n",
      "108 [ 1  6  3 ] \n",
      "109 [ 4  1  6 ] \n",
      "110 [ 2  4  1 ] \n",
      "111 [ 3  2  4 ] \n",
      "112 [ 7  3  2 ] \n",
      "113 [ 1  7  3 ] \n",
      "114 [ 4  1  7 ] \n",
      "115 [ 3  4  1 ] \n",
      "116 [ 4  3  4 ] \n",
      "117 [ 0  4  3 ] \n",
      "118 [ 3  0  4 ] \n",
      "119 [ 7  3  0 ] \n",
      "120 [ 7  7  3 ] \n",
      "121 [ 2  7  7 ] \n",
      "122 [ 1  2  7 ] \n",
      "123 [ 0  1  2 ] \n",
      "124 [ 2  0  1 ] \n",
      "125 [ 3  2  0 ] \n",
      "126 [ 3  3  2 ] \n",
      "127 [ 5  3  3 ] \n",
      "128 [ 0  5  3 ] \n",
      "129 [ 3  0  5 ] \n",
      "130 [ 0  3  0 ] \n",
      "131 [ 0  0  3 ] \n",
      "132 [ 3  0  0 ] \n",
      "133 [ 3  3  0 ] \n",
      "134 [ 3  3  3 ] \n",
      "135 [ 6  3  3 ] \n",
      "136 [ 1  6  3 ] \n",
      "137 [ 4  1  6 ] \n",
      "138 [ 2  4  1 ] \n",
      "139 [ 3  2  4 ] \n",
      "140 [ 7  3  2 ] \n",
      "141 [ 1  7  3 ] \n",
      "142 [ 4  1  7 ] \n",
      "143 [ 3  4  1 ] \n",
      "144 [ 4  3  4 ] \n",
      "145 [ 0  4  3 ] \n",
      "146 [ 3  0  4 ] \n",
      "147 [ 7  3  0 ] \n",
      "148 [ 7  7  3 ] \n",
      "149 [ 2  7  7 ] \n",
      "150 [ 1  2  7 ] \n",
      "151 [ 0  1  2 ] \n",
      "152 [ 2  0  1 ] \n",
      "153 [ 3  2  0 ] \n",
      "154 [ 3  3  2 ] \n",
      "155 [ 5  3  3 ] \n",
      "156 [ 0  5  3 ] \n",
      "157 [ 3  0  5 ] \n",
      "158 [ 0  3  0 ] \n",
      "159 [ 0  0  3 ] \n",
      "160 [ 3  0  0 ] \n",
      "161 [ 3  3  0 ] \n",
      "162 [ 3  3  3 ] \n",
      "163 [ 6  3  3 ] \n",
      "164 [ 1  6  3 ] \n",
      "165 [ 4  1  6 ] \n",
      "166 [ 2  4  1 ] \n",
      "167 [ 3  2  4 ] \n",
      "168 [ 7  3  2 ] \n",
      "169 [ 1  7  3 ] \n",
      "170 [ 4  1  7 ] \n",
      "171 [ 3  4  1 ] \n",
      "172 [ 4  3  4 ] \n",
      "173 [ 0  4  3 ] \n",
      "174 [ 3  0  4 ] \n",
      "175 [ 7  3  0 ] \n",
      "176 [ 7  7  3 ] \n",
      "177 [ 2  7  7 ] \n",
      "178 [ 1  2  7 ] \n",
      "179 [ 0  1  2 ] \n",
      "180 [ 2  0  1 ] \n",
      "181 [ 3  2  0 ] \n",
      "182 [ 3  3  2 ] \n",
      "183 [ 5  3  3 ] \n",
      "184 [ 0  5  3 ] \n",
      "185 [ 3  0  5 ] \n",
      "186 [ 0  3  0 ] \n",
      "187 [ 0  0  3 ] \n",
      "188 [ 3  0  0 ] \n",
      "189 [ 3  3  0 ] \n",
      "190 [ 3  3  3 ] \n",
      "191 [ 6  3  3 ] \n",
      "192 [ 1  6  3 ] \n",
      "193 [ 4  1  6 ] \n",
      "194 [ 2  4  1 ] \n",
      "195 [ 3  2  4 ] \n",
      "196 [ 7  3  2 ] \n",
      "197 [ 1  7  3 ] \n",
      "198 [ 4  1  7 ] \n",
      "199 [ 3  4  1 ] \n",
      "200 [ 4  3  4 ] \n",
      "201 [ 0  4  3 ] \n",
      "202 [ 3  0  4 ] \n",
      "203 [ 7  3  0 ] \n",
      "204 [ 7  7  3 ] \n",
      "205 [ 2  7  7 ] \n",
      "206 [ 1  2  7 ] \n",
      "207 [ 0  1  2 ] \n",
      "208 [ 2  0  1 ] \n",
      "209 [ 3  2  0 ] \n",
      "210 [ 3  3  2 ] \n",
      "211 [ 5  3  3 ] \n",
      "212 [ 0  5  3 ] \n",
      "213 [ 3  0  5 ] \n",
      "214 [ 0  3  0 ] \n",
      "215 [ 0  0  3 ] \n",
      "216 [ 3  0  0 ] \n",
      "217 [ 3  3  0 ] \n",
      "218 [ 3  3  3 ] \n",
      "219 [ 6  3  3 ] \n",
      "220 [ 1  6  3 ] \n",
      "221 [ 4  1  6 ] \n",
      "222 [ 2  4  1 ] \n",
      "223 [ 3  2  4 ] \n",
      "224 [ 7  3  2 ] \n",
      "225 [ 1  7  3 ] \n",
      "226 [ 4  1  7 ] \n",
      "227 [ 3  4  1 ] \n",
      "228 [ 4  3  4 ] \n",
      "229 [ 0  4  3 ] \n",
      "230 [ 3  0  4 ] \n",
      "231 [ 7  3  0 ] \n",
      "232 [ 7  7  3 ] \n",
      "233 [ 2  7  7 ] \n",
      "234 [ 1  2  7 ] \n",
      "235 [ 0  1  2 ] \n",
      "236 [ 2  0  1 ] \n",
      "237 [ 3  2  0 ] \n",
      "238 [ 3  3  2 ] \n",
      "239 [ 5  3  3 ] \n",
      "240 [ 0  5  3 ] \n",
      "241 [ 3  0  5 ] \n",
      "242 [ 0  3  0 ] \n",
      "243 [ 0  0  3 ] \n",
      "244 [ 3  0  0 ] \n",
      "245 [ 3  3  0 ] \n",
      "246 [ 3  3  3 ] \n",
      "247 [ 6  3  3 ] \n",
      "248 [ 1  6  3 ] \n",
      "249 [ 4  1  6 ] \n",
      "250 [ 2  4  1 ] \n",
      "251 [ 3  2  4 ] \n",
      "252 [ 7  3  2 ] \n",
      "253 [ 1  7  3 ] \n",
      "254 [ 4  1  7 ] \n",
      "255 [ 3  4  1 ] \n"
     ]
    },
    {
     "data": {
      "text/latex": [
       "$$\\mathbf{done}$$"
      ],
      "text/plain": [
       "done"
      ]
     },
     "execution_count": 21,
     "metadata": {},
     "output_type": "execute_result"
    }
   ],
   "source": [
    "for i:1 thru p^m-1 do ( mseed:mod(mseed . lfsr,m), print(i,mseed))"
   ]
  },
  {
   "cell_type": "code",
   "execution_count": null,
   "metadata": {
    "collapsed": true
   },
   "outputs": [],
   "source": []
  }
 ],
 "metadata": {
  "kernelspec": {
   "display_name": "Maxima",
   "language": "maxima",
   "name": "maxima"
  },
  "language_info": {
   "codemirror_mode": "maxima",
   "mimetype": "text/x-maxima",
   "name": "maxima",
   "pygments_lexer": "maxima",
   "version": "circa-5.37"
  }
 },
 "nbformat": 4,
 "nbformat_minor": 0
}
